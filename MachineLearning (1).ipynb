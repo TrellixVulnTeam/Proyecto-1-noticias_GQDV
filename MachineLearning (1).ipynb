{
 "cells": [
  {
   "cell_type": "markdown",
   "metadata": {},
   "source": [
    "# Machine Learning"
   ]
  },
  {
   "cell_type": "raw",
   "metadata": {},
   "source": [
    "Año - año del vuelo (almacenado como factor).\n",
    "Mes - mes del vuelo (almacenado como factor).\n",
    "Día del mes - día del mes (1 a 31) (almacenado como un número entero).\n",
    "DayOfWeek - día de la semana (almacenado como factor).\n",
    "DepTime - hora real de salida (almacenado como flotador).\n",
    "CRSDepTime - hora de salida programada (almacenada como flotación).\n",
    "ArrTime - hora real de llegada (almacenada como flotación).\n",
    "CRSArrTime - hora programada de llegada (almacenada como flotación).\n",
    "UniqueCarrier - identificación del transportista (almacenada como factor).\n",
    "FlightNum - número de vuelo (almacenado como factor).\n",
    "TailNum - número de cola del avión (almacenado como factor).\n",
    "ActualElapsedTime - tiempo real transcurrido del vuelo, en minutos (almacenado como entero).\n",
    "CRSElapsedTime - tiempo programado que ha transcurrido durante el vuelo, en minutos (almacenado como un número entero).\n",
    "AirTime - tiempo de vuelo en el aire, en minutos (almacenado como entero).\n",
    "ArrDelay - retraso en la llegada, en minutos (almacenado como entero).\n",
    "DepDelay - retraso de salida, en minutos (almacenado como entero).\n",
    "Origin - aeropuerto de origen (almacenado como un factor).\n",
    "Destino - aeropuerto de destino (almacenado como factor).\n",
    "Distance - distancia del vuelo (almacenada como un entero).\n",
    "TaxiIn - tiempo desde el aterrizaje hasta la llegada a la puerta de embarque, en minutos (almacenado como entero).\n",
    "TaxiOut - tiempo desde la salida de la puerta de embarque hasta el inicio del vuelo, en minutos (almacenado como entero).\n",
    "Cancelled - estado de la cancelación (almacenado como un número entero).\n",
    "CancellationCode - código de cancelación, si es aplicable (almacenado como un factor).\n",
    "Diverted - estado de desvío (almacenado como lógico).\n",
    "CarrierDelay - retraso, en minutos, atribuible al portador (almacenado como entero).\n",
    "WeatherDelay - retraso, en minutos, atribuible a factores meteorológicos (almacenado como entero).\n",
    "NASDelay - retraso, en minutos, atribuible al Sistema Nacional de Aviación (almacenado como entero).\n",
    "SecurityDelay - retraso, en minutos, atribuible a factores de seguridad (almacenado como entero).\n",
    "LateAircraftDelay - retraso, en minutos, atribuible a la llegada tardía de un avión (almacenado como entero)."
   ]
  },
  {
   "cell_type": "code",
   "execution_count": 1,
   "metadata": {},
   "outputs": [],
   "source": [
    "from sklearn import preprocessing\n",
    "import pandas as pd\n",
    "import numpy as np\n",
    "\n",
    "df = pd.read_csv(\"../../data/Cap 8/base_datos_2008.csv\", nrows = 100000)\n",
    "\n",
    "# Suprimo los datos faltantes de las columnas que nos interesa observar.\n",
    "df = df[[\"ArrDelay\", \"DepDelay\", \"Distance\", \"AirTime\"]].dropna()"
   ]
  },
  {
   "cell_type": "code",
   "execution_count": 2,
   "metadata": {},
   "outputs": [
    {
     "data": {
      "text/html": [
       "<div>\n",
       "<style scoped>\n",
       "    .dataframe tbody tr th:only-of-type {\n",
       "        vertical-align: middle;\n",
       "    }\n",
       "\n",
       "    .dataframe tbody tr th {\n",
       "        vertical-align: top;\n",
       "    }\n",
       "\n",
       "    .dataframe thead th {\n",
       "        text-align: right;\n",
       "    }\n",
       "</style>\n",
       "<table border=\"1\" class=\"dataframe\">\n",
       "  <thead>\n",
       "    <tr style=\"text-align: right;\">\n",
       "      <th></th>\n",
       "      <th>ArrDelay</th>\n",
       "      <th>DepDelay</th>\n",
       "      <th>Distance</th>\n",
       "      <th>AirTime</th>\n",
       "    </tr>\n",
       "  </thead>\n",
       "  <tbody>\n",
       "    <tr>\n",
       "      <th>0</th>\n",
       "      <td>-14.0</td>\n",
       "      <td>8.0</td>\n",
       "      <td>810</td>\n",
       "      <td>116.0</td>\n",
       "    </tr>\n",
       "    <tr>\n",
       "      <th>1</th>\n",
       "      <td>2.0</td>\n",
       "      <td>19.0</td>\n",
       "      <td>810</td>\n",
       "      <td>113.0</td>\n",
       "    </tr>\n",
       "    <tr>\n",
       "      <th>2</th>\n",
       "      <td>14.0</td>\n",
       "      <td>8.0</td>\n",
       "      <td>515</td>\n",
       "      <td>76.0</td>\n",
       "    </tr>\n",
       "    <tr>\n",
       "      <th>3</th>\n",
       "      <td>-6.0</td>\n",
       "      <td>-4.0</td>\n",
       "      <td>515</td>\n",
       "      <td>78.0</td>\n",
       "    </tr>\n",
       "    <tr>\n",
       "      <th>4</th>\n",
       "      <td>34.0</td>\n",
       "      <td>34.0</td>\n",
       "      <td>515</td>\n",
       "      <td>77.0</td>\n",
       "    </tr>\n",
       "  </tbody>\n",
       "</table>\n",
       "</div>"
      ],
      "text/plain": [
       "   ArrDelay  DepDelay  Distance  AirTime\n",
       "0     -14.0       8.0       810    116.0\n",
       "1       2.0      19.0       810    113.0\n",
       "2      14.0       8.0       515     76.0\n",
       "3      -6.0      -4.0       515     78.0\n",
       "4      34.0      34.0       515     77.0"
      ]
     },
     "execution_count": 2,
     "metadata": {},
     "output_type": "execute_result"
    }
   ],
   "source": [
    "df.head()"
   ]
  },
  {
   "cell_type": "code",
   "execution_count": 3,
   "metadata": {
    "scrolled": true
   },
   "outputs": [
    {
     "data": {
      "text/plain": [
       "array([[-0.63713243, -0.08247884,  0.40657043,  0.4452521 ],\n",
       "       [-0.12045009,  0.3068154 ,  0.40657043,  0.38990966],\n",
       "       [ 0.26706167, -0.08247884, -0.26709367, -0.29264705],\n",
       "       ...,\n",
       "       [ 1.84940134,  2.18250582,  0.53445243,  0.31611975],\n",
       "       [ 0.17018373,  0.37759617,  0.53445243,  0.1869874 ],\n",
       "       [ 0.17018373, -0.25943077,  0.53445243,  0.22388235]])"
      ]
     },
     "execution_count": 3,
     "metadata": {},
     "output_type": "execute_result"
    }
   ],
   "source": [
    "# Vamos a normalizar todas las variables para que estén dentro de una misma escala, centrada en 0.\n",
    "X_scaled = preprocessing.scale(df)\n",
    "X_scaled"
   ]
  },
  {
   "cell_type": "code",
   "execution_count": 4,
   "metadata": {},
   "outputs": [
    {
     "data": {
      "text/plain": [
       "array([2.47651119e-17, 1.07267490e-17, 1.19506063e-16, 1.01364179e-16])"
      ]
     },
     "execution_count": 4,
     "metadata": {},
     "output_type": "execute_result"
    }
   ],
   "source": [
    "# Calculamos la media de cada una de las columnas, prácticamente es 0.\n",
    "X_scaled.mean(axis = 0)"
   ]
  },
  {
   "cell_type": "code",
   "execution_count": 5,
   "metadata": {},
   "outputs": [
    {
     "data": {
      "text/plain": [
       "array([1., 1., 1., 1.])"
      ]
     },
     "execution_count": 5,
     "metadata": {},
     "output_type": "execute_result"
    }
   ],
   "source": [
    "# Hacemos lo mismo con desviación estándar. Todas las variables están centradas en el 0 con una desviación estándar = 1.\n",
    "X_scaled.std(axis = 0)"
   ]
  },
  {
   "cell_type": "code",
   "execution_count": 6,
   "metadata": {},
   "outputs": [
    {
     "data": {
      "text/plain": [
       "ArrDelay     14.0\n",
       "DepDelay      8.0\n",
       "Distance    515.0\n",
       "AirTime      76.0\n",
       "Name: 2, dtype: float64"
      ]
     },
     "execution_count": 6,
     "metadata": {},
     "output_type": "execute_result"
    }
   ],
   "source": [
    "# Si no tenemos una distribución de los datos el retraso en la salida 8 frente a la llegada 14 ¿cuánto es? Si no tenemos\n",
    "# un escalado de los datos no se puede saber.\n",
    "df.iloc[2]"
   ]
  },
  {
   "cell_type": "code",
   "execution_count": 7,
   "metadata": {},
   "outputs": [
    {
     "data": {
      "text/plain": [
       "array([ 0.26706167, -0.08247884, -0.26709367, -0.29264705])"
      ]
     },
     "execution_count": 7,
     "metadata": {},
     "output_type": "execute_result"
    }
   ],
   "source": [
    "# Valor por encima de la media el primero, el tercero y cuarto por debajo de la media.\n",
    "X_scaled[2]"
   ]
  },
  {
   "cell_type": "code",
   "execution_count": 8,
   "metadata": {},
   "outputs": [
    {
     "data": {
      "text/plain": [
       "array([[0.77199282, 0.92857143, 3.15557514, 2.91316527],\n",
       "       [1.05924596, 1.125     , 3.15557514, 2.82913165],\n",
       "       [1.27468582, 0.92857143, 1.85544293, 1.79271709],\n",
       "       ...,\n",
       "       [2.15439856, 2.07142857, 3.4023799 , 2.71708683],\n",
       "       [1.22082585, 1.16071429, 3.4023799 , 2.5210084 ],\n",
       "       [1.22082585, 0.83928571, 3.4023799 , 2.57703081]])"
      ]
     },
     "execution_count": 8,
     "metadata": {},
     "output_type": "execute_result"
    }
   ],
   "source": [
    "# Vamos a realizar otro tipo de escalado de datos, aplicamos MinMax.\n",
    "# Los datos ya no están centrados en 0, explicitamos el rango de valores que queremos que tenga.\n",
    "min_max_scaler = preprocessing.MinMaxScaler([0,10])\n",
    "# Adapta los datos atendiendo a nuestro dataframe\n",
    "X_train_minmax = min_max_scaler.fit_transform(df)\n",
    "X_train_minmax\n",
    "# Hay que tener en cuenta los outliers si son muchos, en este caso quedarían fuera de la distribución."
   ]
  },
  {
   "cell_type": "markdown",
   "metadata": {},
   "source": [
    "Los datos en este caso ya no están centrados en el cero y tienen otra escala."
   ]
  },
  {
   "cell_type": "markdown",
   "metadata": {},
   "source": [
    "# Clustering"
   ]
  },
  {
   "cell_type": "markdown",
   "metadata": {},
   "source": [
    "https://scikit-learn.org/stable/modules/clustering.html#k-means \n",
    "\n",
    "El objetivo del clustering es separar una población en grupos asegurando que cada uno de ellos tenga la misma varianza. Genera conjuntos disjuntos, asignando cada punto al centroide más cercano."
   ]
  },
  {
   "cell_type": "code",
   "execution_count": 9,
   "metadata": {},
   "outputs": [],
   "source": [
    "import pandas as pd\n",
    "import numpy as np\n",
    "from sklearn.cluster import KMeans\n",
    "import matplotlib.pyplot as plt\n",
    "\n",
    "df = pd.read_csv(\"../../data/Cap 8/base_datos_2008.csv\", nrows = 1e5)\n",
    "newdf = df[[\"AirTime\", \"DepDelay\"]].dropna()"
   ]
  },
  {
   "cell_type": "code",
   "execution_count": 10,
   "metadata": {},
   "outputs": [
    {
     "data": {
      "text/html": [
       "<div>\n",
       "<style scoped>\n",
       "    .dataframe tbody tr th:only-of-type {\n",
       "        vertical-align: middle;\n",
       "    }\n",
       "\n",
       "    .dataframe tbody tr th {\n",
       "        vertical-align: top;\n",
       "    }\n",
       "\n",
       "    .dataframe thead th {\n",
       "        text-align: right;\n",
       "    }\n",
       "</style>\n",
       "<table border=\"1\" class=\"dataframe\">\n",
       "  <thead>\n",
       "    <tr style=\"text-align: right;\">\n",
       "      <th></th>\n",
       "      <th>AirTime</th>\n",
       "      <th>DepDelay</th>\n",
       "    </tr>\n",
       "  </thead>\n",
       "  <tbody>\n",
       "    <tr>\n",
       "      <th>0</th>\n",
       "      <td>116.0</td>\n",
       "      <td>8.0</td>\n",
       "    </tr>\n",
       "    <tr>\n",
       "      <th>1</th>\n",
       "      <td>113.0</td>\n",
       "      <td>19.0</td>\n",
       "    </tr>\n",
       "    <tr>\n",
       "      <th>2</th>\n",
       "      <td>76.0</td>\n",
       "      <td>8.0</td>\n",
       "    </tr>\n",
       "    <tr>\n",
       "      <th>3</th>\n",
       "      <td>78.0</td>\n",
       "      <td>-4.0</td>\n",
       "    </tr>\n",
       "    <tr>\n",
       "      <th>4</th>\n",
       "      <td>77.0</td>\n",
       "      <td>34.0</td>\n",
       "    </tr>\n",
       "  </tbody>\n",
       "</table>\n",
       "</div>"
      ],
      "text/plain": [
       "   AirTime  DepDelay\n",
       "0    116.0       8.0\n",
       "1    113.0      19.0\n",
       "2     76.0       8.0\n",
       "3     78.0      -4.0\n",
       "4     77.0      34.0"
      ]
     },
     "execution_count": 10,
     "metadata": {},
     "output_type": "execute_result"
    }
   ],
   "source": [
    "newdf.head()"
   ]
  },
  {
   "cell_type": "code",
   "execution_count": 11,
   "metadata": {},
   "outputs": [
    {
     "name": "stderr",
     "output_type": "stream",
     "text": [
      "C:\\Users\\gabriel.marin\\Anaconda3\\lib\\site-packages\\sklearn\\cluster\\_kmeans.py:792: FutureWarning: 'n_jobs' was deprecated in version 0.23 and will be removed in 1.0 (renaming of 0.25).\n",
      "  warnings.warn(\"'n_jobs' was deprecated in version 0.23 and will be\"\n"
     ]
    },
    {
     "data": {
      "text/plain": [
       "array([3, 3, 1, ..., 0, 3, 3])"
      ]
     },
     "execution_count": 11,
     "metadata": {},
     "output_type": "execute_result"
    }
   ],
   "source": [
    "# Número de clusters = 4, añado una semilla con random_state y utilizo todos los procesadores del portátil.\n",
    "# Ajusto el modelo con fit.\n",
    "kmeans = KMeans(n_clusters = 4, random_state = 0, n_jobs = -1).fit(newdf)\n",
    "kmeans.labels_\n",
    "\n",
    "# Obtenemos el cluster al que pertenecen cada una de nuestras observaciones."
   ]
  },
  {
   "cell_type": "code",
   "execution_count": 12,
   "metadata": {},
   "outputs": [
    {
     "data": {
      "text/plain": [
       "(array([0, 1, 2, 3]), array([ 3944, 60402,  8274, 26078], dtype=int64))"
      ]
     },
     "execution_count": 12,
     "metadata": {},
     "output_type": "execute_result"
    }
   ],
   "source": [
    "# Con la siguiente instrucción analizamos cómo han quedado distribuidos los individuos en cada uno de los grupos.\n",
    "np.unique(kmeans.labels_, return_counts = True)\n",
    "# Como se puede observar han quedado distribuidos de manera muy dispar, 3944 al primer grupo,..."
   ]
  },
  {
   "cell_type": "code",
   "execution_count": 13,
   "metadata": {},
   "outputs": [
    {
     "data": {
      "image/png": "[encoded data removed]",
      "text/plain": [
       "<Figure size 432x288 with 1 Axes>"
      ]
     },
     "metadata": {
      "needs_background": "light"
     },
     "output_type": "display_data"
    }
   ],
   "source": [
    "# Vamos a visualizar cómo quedan distribuidos los centroides.\n",
    "import matplotlib.pyplot as plt\n",
    "plt.scatter(newdf[\"AirTime\"], newdf[\"DepDelay\"], c= kmeans.labels_)\n",
    "plt.show()"
   ]
  },
  {
   "cell_type": "markdown",
   "metadata": {},
   "source": [
    "Se puede observar que hay dos grupos a la izquierda muy cargados y próximos, y otros dos con mucha dispersión."
   ]
  },
  {
   "cell_type": "code",
   "execution_count": 14,
   "metadata": {},
   "outputs": [
    {
     "data": {
      "text/plain": [
       "array([[ 79.50946731, 116.4478667 ],\n",
       "       [ 58.86814825,   5.65975557],\n",
       "       [224.74990908,  10.03576191],\n",
       "       [128.07685235,   5.12600567]])"
      ]
     },
     "execution_count": 14,
     "metadata": {},
     "output_type": "execute_result"
    }
   ],
   "source": [
    "# Vamos a ver dónde quedan situados los centroides.\n",
    "kmeans.cluster_centers_"
   ]
  },
  {
   "cell_type": "code",
   "execution_count": 15,
   "metadata": {},
   "outputs": [],
   "source": [
    "# Si queremos utilizar nuestro objeto kmeans para predecir a qué cluster van a pertenecer nuevos puntos.\n",
    "\n",
    "alldf = pd.read_csv(\"../../data/Cap 8/base_datos_2008.csv\", nrows = 1e6)[[\"AirTime\", \"DepDelay\"]].dropna()"
   ]
  },
  {
   "cell_type": "code",
   "execution_count": 16,
   "metadata": {},
   "outputs": [
    {
     "data": {
      "text/plain": [
       "array([3, 3, 1, 1, 1, 1, 2, 2, 1, 1, 3, 0, 1, 1, 1, 1, 2, 2, 3, 1, 1, 1,\n",
       "       1, 1, 1, 1, 0, 3, 3, 2, 0, 3, 3, 3, 3, 3, 3, 0, 3, 3, 3, 3, 3, 3,\n",
       "       3, 3, 3, 3, 3, 0, 1, 1, 1, 1, 3, 3, 1, 1, 1, 1, 1, 3, 3, 1, 1, 1,\n",
       "       1, 1, 1, 1, 3, 3, 1, 1, 3, 3, 1, 1, 1, 1, 1, 0, 1, 1, 1, 1, 2, 1,\n",
       "       3, 3, 3, 2, 2, 2, 2, 2, 2, 1, 1, 2])"
      ]
     },
     "execution_count": 16,
     "metadata": {},
     "output_type": "execute_result"
    }
   ],
   "source": [
    "# Vamos a mostrar cómo quedan clasificados los primeros 100\n",
    "kmeans.predict(alldf)[0:100]"
   ]
  },
  {
   "cell_type": "markdown",
   "metadata": {},
   "source": [
    "Si probamos con un clúster de 10..."
   ]
  },
  {
   "cell_type": "markdown",
   "metadata": {},
   "source": [
    "# Regresión Lineal"
   ]
  },
  {
   "cell_type": "code",
   "execution_count": 17,
   "metadata": {},
   "outputs": [],
   "source": [
    "import pandas as pd\n",
    "import numpy as np\n",
    "from sklearn import datasets, linear_model\n",
    "from sklearn.metrics import mean_squared_error, r2_score\n",
    "import matplotlib.pyplot as plt\n",
    "\n",
    "df = pd.read_csv(\"../../data/Cap 8/base_datos_2008.csv\")"
   ]
  },
  {
   "cell_type": "markdown",
   "metadata": {},
   "source": [
    "El objetivo de este modelo es aproximar a una recta el conjunto de datos. € (error del modelo).\n",
    "- Es necesario que la relación entre las variables sea lineal.\n",
    "- Las variables explicativas no tienen relación entre ellas.\n",
    "- Homocedasticidad (varianza constante, si predecimos los salarios en base a la edad, habría que encontrar los mismos errores para gente joven que para gente mayor).\n",
    "- El error total sea la suma de todos los errores.\n",
    "\n",
    "Y se corresponde con la variable independiente y X corresponde con las variables explicativas o regresoras.\n",
    "\n",
    "Y = $\\beta_0$ +  $\\beta_1$ $X_1$ +  $\\beta_2$ $X_2$ +  $\\beta_3$ $X_3$ + .... + €\n",
    "\n",
    "https://blog.minitab.com/es/analisis-de-regresion-como-puedo-interpretar-el-r-cuadrado-y-evaluar-la-bondad-de-ajuste"
   ]
  },
  {
   "cell_type": "code",
   "execution_count": 18,
   "metadata": {},
   "outputs": [],
   "source": [
    "# Vamos a determinar el retraso en la llegada a partir del retraso en la salida.\n",
    "# Ambas variables están muy correlacionadas.\n",
    "df = df.dropna(subset = [\"ArrDelay\"])\n",
    "# Seleccionamos un subconjunto de 100.000 líneas que vamos a mezclar.\n",
    "df = df.sample(frac = 1).head(100000)\n",
    "# Vamos a determinar predecir el retraso en la llegada ArrDelay a partir del retraso en la salida DepDelay\n",
    "Y = df[\"ArrDelay\"]\n",
    "X = df[[\"DepDelay\"]]"
   ]
  },
  {
   "cell_type": "code",
   "execution_count": 19,
   "metadata": {},
   "outputs": [
    {
     "data": {
      "text/plain": [
       "Index(['Year', 'Month', 'DayofMonth', 'DayOfWeek', 'DepTime', 'CRSDepTime',\n",
       "       'ArrTime', 'CRSArrTime', 'UniqueCarrier', 'FlightNum', 'TailNum',\n",
       "       'ActualElapsedTime', 'CRSElapsedTime', 'AirTime', 'ArrDelay',\n",
       "       'DepDelay', 'Origin', 'Dest', 'Distance', 'TaxiIn', 'TaxiOut',\n",
       "       'Cancelled', 'CancellationCode', 'Diverted', 'CarrierDelay',\n",
       "       'WeatherDelay', 'NASDelay', 'SecurityDelay', 'LateAircraftDelay'],\n",
       "      dtype='object')"
      ]
     },
     "execution_count": 19,
     "metadata": {},
     "output_type": "execute_result"
    }
   ],
   "source": [
    "df.columns"
   ]
  },
  {
   "cell_type": "code",
   "execution_count": 20,
   "metadata": {},
   "outputs": [
    {
     "name": "stdout",
     "output_type": "stream",
     "text": [
      "Coeficientes:  [1.0176226]\n",
      "R cuadrado:  0.868593178921136\n"
     ]
    }
   ],
   "source": [
    "# A continuación ajustamos el modelo.\n",
    "regr = linear_model.LinearRegression()\n",
    "# Ajuste con X e Y definidos con anterioridad.\n",
    "regr.fit(X, Y)\n",
    "\n",
    "# Imprimimos el valor de las Betas... corresponden con los coeficientes de las variables dependientes.\n",
    "print(\"Coeficientes: \", regr.coef_)\n",
    "\n",
    "# El valor próximo a 1 nos indica que está cercano a la varianza, desviación al cuadrado respecto a la media.\n",
    "# Estamos explicando el 86,9 % de la varianza.\n",
    "\n",
    "Y_pred = regr.predict(X)\n",
    "# R2 nos va a decir cuán bueno es el modelo, cuanto más próximo a 1, el modelo es mejor.\n",
    "print(\"R cuadrado: \", r2_score(Y, Y_pred))"
   ]
  },
  {
   "cell_type": "code",
   "execution_count": 21,
   "metadata": {},
   "outputs": [
    {
     "data": {
      "image/png": "[encoded data removed]",
      "text/plain": [
       "<Figure size 432x288 with 1 Axes>"
      ]
     },
     "metadata": {
      "needs_background": "light"
     },
     "output_type": "display_data"
    }
   ],
   "source": [
    "plt.scatter(X[1:10000], Y[1:10000], color = \"black\")\n",
    "plt.plot(X[1:10000], Y_pred[1:10000], color = \"blue\")\n",
    "plt.show()"
   ]
  },
  {
   "cell_type": "markdown",
   "metadata": {},
   "source": [
    "# Regresión Logística"
   ]
  },
  {
   "cell_type": "code",
   "execution_count": 22,
   "metadata": {},
   "outputs": [],
   "source": [
    "import pandas as pd\n",
    "import numpy as np\n",
    "from sklearn.linear_model import LogisticRegression\n",
    "from sklearn.metrics import confusion_matrix\n",
    "import matplotlib.pyplot as plt\n",
    "\n",
    "df = pd.read_csv(\"../../data/Cap 8/base_datos_2008.csv\")\n",
    "\n",
    "# En este caso el modelo se aplica a categorías que no responden a valores numéricos continuos.\n",
    "# Se utiliza de forma binaria, para predecir si un cliente va a comprar un determinado producto o no.\n",
    "# Los valores devueltos por la expresión se encuentran entre 0 y 1."
   ]
  },
  {
   "cell_type": "markdown",
   "metadata": {},
   "source": [
    "P(y) = $\\left(\\frac{1}{e^(\\beta_0 + \\beta_1 X_1 +  \\beta_2 X_2$ +  \\beta_3 X_3 + ... + €)}\\right)$"
   ]
  },
  {
   "cell_type": "code",
   "execution_count": 23,
   "metadata": {},
   "outputs": [],
   "source": [
    "# Vamos a determinar el retraso en la llegada a partir del retraso en la salida.\n",
    "# Ambas variables están muy correlacionadas.\n",
    "df = df.dropna(subset = [\"ArrDelay\"])\n",
    "df = df.sample(frac = 1).head(100000)\n",
    "Y = df[\"ArrDelay\"] < 30 # Esta será nuestra variable respuesta: vuelos sin y con retraso (True = 1 / False = 0)\n",
    "X = df[[\"DepDelay\"]]"
   ]
  },
  {
   "cell_type": "code",
   "execution_count": 24,
   "metadata": {},
   "outputs": [],
   "source": [
    "# Creamos el modelo con LogisticRegression()\n",
    "logreg = LogisticRegression()\n",
    "# Ajustamos el modelo con fit\n",
    "logreg.fit(X, Y)\n",
    "# Obtenemos las predicciones\n",
    "Y_pred = logreg.predict(X)"
   ]
  },
  {
   "cell_type": "code",
   "execution_count": 25,
   "metadata": {},
   "outputs": [
    {
     "data": {
      "text/plain": [
       "array([[0.014, 0.986],\n",
       "       [0.023, 0.977],\n",
       "       [0.009, 0.991],\n",
       "       ...,\n",
       "       [1.   , 0.   ],\n",
       "       [0.005, 0.995],\n",
       "       [0.013, 0.987]])"
      ]
     },
     "execution_count": 25,
     "metadata": {},
     "output_type": "execute_result"
    }
   ],
   "source": [
    "# La regresión logística nos devuelve probabilidades, selecciona la categoría con probabilidad superior.\n",
    "np.round(logreg.predict_proba(X),3)\n",
    "# El primer caso tiene una probabilidad de un 1% de pertenecer al grupo 0 (sin retraso) y \n",
    "# un 98.2 de pertenecer al grupo 1 (con retraso)"
   ]
  },
  {
   "cell_type": "markdown",
   "metadata": {},
   "source": [
    "Se puede ver que en los tres primeros casos es muy probable que el vuelo no tenga retraso notable. % elem 0,0 - % elem 0,1"
   ]
  },
  {
   "cell_type": "code",
   "execution_count": 26,
   "metadata": {},
   "outputs": [
    {
     "data": {
      "text/plain": [
       "0.95555"
      ]
     },
     "execution_count": 26,
     "metadata": {},
     "output_type": "execute_result"
    }
   ],
   "source": [
    "# 95,59% de las predicciones es correcta. Vemos en qué caso nuestras predicciones coinciden con el valor real.\n",
    "np.mean(Y_pred == Y)"
   ]
  },
  {
   "cell_type": "code",
   "execution_count": 27,
   "metadata": {},
   "outputs": [
    {
     "data": {
      "text/plain": [
       "0.86423"
      ]
     },
     "execution_count": 27,
     "metadata": {},
     "output_type": "execute_result"
    }
   ],
   "source": [
    "# En el caso real, tenemos una aproximación del 86,40%, sabemos que en un 86,40% de los casos el vuelo no se retrasa\n",
    "np.mean(Y)"
   ]
  },
  {
   "cell_type": "code",
   "execution_count": 28,
   "metadata": {},
   "outputs": [
    {
     "name": "stdout",
     "output_type": "stream",
     "text": [
      "[[10205  3372]\n",
      " [ 1073 85350]]\n"
     ]
    }
   ],
   "source": [
    "# Las filas son los valores reales (Y), las columnas las predicciones (Y_pred), 10126 (False) ha predicho como 0,  \n",
    "# 1028 eran los casos que no se habían retrasado, pero que nuestro modelo ha considerado que sí.\n",
    "# 85596 que son los casos que no se han retrasado y nuestro modelo lo ha clasificado bien.\n",
    "confusion_matrix = confusion_matrix(Y, Y_pred)\n",
    "print(confusion_matrix)\n",
    "\n",
    "# (0,0) -> En este caso el modelo ha predicho como 0 (False = con retraso) y el modelo ha predicho como 0 (con retraso).\n",
    "# (0,1) -> En este caso el modelo ha predicho como 1 (True = sin retraso) y el modelo ha predicho como 0 (con retraso).\n",
    "# (1,0) -> En este caso el modelo ha predicho como 0 (False = con retraso) y el modelo ha predicho como 1 (sin retraso).\n",
    "# (1,1) -> En este caso el modelo ha predicho como 1 (True = sin retraso) y el modelo ha predicho como 1 (sin retraso)."
   ]
  },
  {
   "cell_type": "markdown",
   "metadata": {},
   "source": [
    "# Bayes, se expresa la probabilidad de un evento aleatorio A, dado B."
   ]
  },
  {
   "cell_type": "code",
   "execution_count": 29,
   "metadata": {},
   "outputs": [],
   "source": [
    "import pandas as pd\n",
    "import numpy as np\n",
    "from sklearn.naive_bayes import BernoulliNB\n",
    "from sklearn.naive_bayes import MultinomialNB\n",
    "from sklearn.naive_bayes import GaussianNB\n",
    "\n",
    "df = pd.read_csv(\"../../data/Cap 8/base_datos_2008.csv\", nrows = 100000)\n",
    "df = df.sample(frac = 1)\n",
    "df = df.head(500000)"
   ]
  },
  {
   "cell_type": "markdown",
   "metadata": {},
   "source": [
    "Para este modelo existen tres variantes vinculadas:\n",
    "   - Bernouilli, se puede utilizar para el análisis de texto.\n",
    "   - Multinomial, se utiliza también para el análisis de texto.\n",
    "   - Gaussian, se utiliza para datos continuos, asume que las variables regresoras están distribuidas normalmente.\n",
    "    \n",
    "Este modelo supone que todas las variables son independientes, cosa que no es cierta."
   ]
  },
  {
   "cell_type": "code",
   "execution_count": 30,
   "metadata": {},
   "outputs": [],
   "source": [
    "df = df.dropna(subset = [\"ArrDelay\"])"
   ]
  },
  {
   "cell_type": "code",
   "execution_count": 31,
   "metadata": {},
   "outputs": [],
   "source": [
    "# Variable respuesta, el retraso en la llegada con vuelos retrasados al menos un minuto.\n",
    "Y = df[\"ArrDelay\"] > 0"
   ]
  },
  {
   "cell_type": "code",
   "execution_count": 32,
   "metadata": {},
   "outputs": [],
   "source": [
    "df[\"Month\"] = df[\"Month\"].apply(str)\n",
    "df[\"DayofMonth\"] = df[\"DayofMonth\"].apply(str)\n",
    "df[\"DayOfWeek\"] = df[\"DayOfWeek\"].apply(str)\n",
    "df[\"TailNum\"] = df[\"TailNum\"].apply(str)\n",
    "\n",
    "X = pd.get_dummies(data = df[[\"Month\", \"DayofMonth\", \"TailNum\", \"DayOfWeek\", \"Origin\", \"Dest\", \"UniqueCarrier\"]])"
   ]
  },
  {
   "cell_type": "code",
   "execution_count": 33,
   "metadata": {},
   "outputs": [
    {
     "data": {
      "text/html": [
       "<div>\n",
       "<style scoped>\n",
       "    .dataframe tbody tr th:only-of-type {\n",
       "        vertical-align: middle;\n",
       "    }\n",
       "\n",
       "    .dataframe tbody tr th {\n",
       "        vertical-align: top;\n",
       "    }\n",
       "\n",
       "    .dataframe thead th {\n",
       "        text-align: right;\n",
       "    }\n",
       "</style>\n",
       "<table border=\"1\" class=\"dataframe\">\n",
       "  <thead>\n",
       "    <tr style=\"text-align: right;\">\n",
       "      <th></th>\n",
       "      <th>Month_1</th>\n",
       "      <th>DayofMonth_1</th>\n",
       "      <th>DayofMonth_10</th>\n",
       "      <th>DayofMonth_11</th>\n",
       "      <th>DayofMonth_12</th>\n",
       "      <th>DayofMonth_13</th>\n",
       "      <th>DayofMonth_14</th>\n",
       "      <th>DayofMonth_15</th>\n",
       "      <th>DayofMonth_16</th>\n",
       "      <th>DayofMonth_17</th>\n",
       "      <th>...</th>\n",
       "      <th>Dest_SMF</th>\n",
       "      <th>Dest_SNA</th>\n",
       "      <th>Dest_STL</th>\n",
       "      <th>Dest_SYR</th>\n",
       "      <th>Dest_TPA</th>\n",
       "      <th>Dest_TUL</th>\n",
       "      <th>Dest_TUS</th>\n",
       "      <th>Dest_XNA</th>\n",
       "      <th>UniqueCarrier_WN</th>\n",
       "      <th>UniqueCarrier_XE</th>\n",
       "    </tr>\n",
       "  </thead>\n",
       "  <tbody>\n",
       "    <tr>\n",
       "      <th>49955</th>\n",
       "      <td>1</td>\n",
       "      <td>0</td>\n",
       "      <td>0</td>\n",
       "      <td>0</td>\n",
       "      <td>0</td>\n",
       "      <td>0</td>\n",
       "      <td>0</td>\n",
       "      <td>0</td>\n",
       "      <td>0</td>\n",
       "      <td>0</td>\n",
       "      <td>...</td>\n",
       "      <td>0</td>\n",
       "      <td>0</td>\n",
       "      <td>0</td>\n",
       "      <td>0</td>\n",
       "      <td>0</td>\n",
       "      <td>0</td>\n",
       "      <td>0</td>\n",
       "      <td>0</td>\n",
       "      <td>1</td>\n",
       "      <td>0</td>\n",
       "    </tr>\n",
       "    <tr>\n",
       "      <th>49669</th>\n",
       "      <td>1</td>\n",
       "      <td>0</td>\n",
       "      <td>0</td>\n",
       "      <td>0</td>\n",
       "      <td>0</td>\n",
       "      <td>0</td>\n",
       "      <td>0</td>\n",
       "      <td>0</td>\n",
       "      <td>0</td>\n",
       "      <td>0</td>\n",
       "      <td>...</td>\n",
       "      <td>0</td>\n",
       "      <td>0</td>\n",
       "      <td>0</td>\n",
       "      <td>0</td>\n",
       "      <td>0</td>\n",
       "      <td>0</td>\n",
       "      <td>0</td>\n",
       "      <td>0</td>\n",
       "      <td>1</td>\n",
       "      <td>0</td>\n",
       "    </tr>\n",
       "    <tr>\n",
       "      <th>52995</th>\n",
       "      <td>1</td>\n",
       "      <td>0</td>\n",
       "      <td>0</td>\n",
       "      <td>0</td>\n",
       "      <td>0</td>\n",
       "      <td>0</td>\n",
       "      <td>0</td>\n",
       "      <td>0</td>\n",
       "      <td>0</td>\n",
       "      <td>0</td>\n",
       "      <td>...</td>\n",
       "      <td>1</td>\n",
       "      <td>0</td>\n",
       "      <td>0</td>\n",
       "      <td>0</td>\n",
       "      <td>0</td>\n",
       "      <td>0</td>\n",
       "      <td>0</td>\n",
       "      <td>0</td>\n",
       "      <td>1</td>\n",
       "      <td>0</td>\n",
       "    </tr>\n",
       "    <tr>\n",
       "      <th>770</th>\n",
       "      <td>1</td>\n",
       "      <td>0</td>\n",
       "      <td>0</td>\n",
       "      <td>0</td>\n",
       "      <td>0</td>\n",
       "      <td>0</td>\n",
       "      <td>0</td>\n",
       "      <td>0</td>\n",
       "      <td>0</td>\n",
       "      <td>0</td>\n",
       "      <td>...</td>\n",
       "      <td>0</td>\n",
       "      <td>0</td>\n",
       "      <td>0</td>\n",
       "      <td>0</td>\n",
       "      <td>0</td>\n",
       "      <td>0</td>\n",
       "      <td>0</td>\n",
       "      <td>0</td>\n",
       "      <td>1</td>\n",
       "      <td>0</td>\n",
       "    </tr>\n",
       "    <tr>\n",
       "      <th>64222</th>\n",
       "      <td>1</td>\n",
       "      <td>0</td>\n",
       "      <td>0</td>\n",
       "      <td>0</td>\n",
       "      <td>0</td>\n",
       "      <td>0</td>\n",
       "      <td>0</td>\n",
       "      <td>0</td>\n",
       "      <td>0</td>\n",
       "      <td>0</td>\n",
       "      <td>...</td>\n",
       "      <td>0</td>\n",
       "      <td>1</td>\n",
       "      <td>0</td>\n",
       "      <td>0</td>\n",
       "      <td>0</td>\n",
       "      <td>0</td>\n",
       "      <td>0</td>\n",
       "      <td>0</td>\n",
       "      <td>1</td>\n",
       "      <td>0</td>\n",
       "    </tr>\n",
       "  </tbody>\n",
       "</table>\n",
       "<p>5 rows × 827 columns</p>\n",
       "</div>"
      ],
      "text/plain": [
       "       Month_1  DayofMonth_1  DayofMonth_10  DayofMonth_11  DayofMonth_12  \\\n",
       "49955        1             0              0              0              0   \n",
       "49669        1             0              0              0              0   \n",
       "52995        1             0              0              0              0   \n",
       "770          1             0              0              0              0   \n",
       "64222        1             0              0              0              0   \n",
       "\n",
       "       DayofMonth_13  DayofMonth_14  DayofMonth_15  DayofMonth_16  \\\n",
       "49955              0              0              0              0   \n",
       "49669              0              0              0              0   \n",
       "52995              0              0              0              0   \n",
       "770                0              0              0              0   \n",
       "64222              0              0              0              0   \n",
       "\n",
       "       DayofMonth_17  ...  Dest_SMF  Dest_SNA  Dest_STL  Dest_SYR  Dest_TPA  \\\n",
       "49955              0  ...         0         0         0         0         0   \n",
       "49669              0  ...         0         0         0         0         0   \n",
       "52995              0  ...         1         0         0         0         0   \n",
       "770                0  ...         0         0         0         0         0   \n",
       "64222              0  ...         0         1         0         0         0   \n",
       "\n",
       "       Dest_TUL  Dest_TUS  Dest_XNA  UniqueCarrier_WN  UniqueCarrier_XE  \n",
       "49955         0         0         0                 1                 0  \n",
       "49669         0         0         0                 1                 0  \n",
       "52995         0         0         0                 1                 0  \n",
       "770           0         0         0                 1                 0  \n",
       "64222         0         0         0                 1                 0  \n",
       "\n",
       "[5 rows x 827 columns]"
      ]
     },
     "execution_count": 33,
     "metadata": {},
     "output_type": "execute_result"
    }
   ],
   "source": [
    "X.head()"
   ]
  },
  {
   "cell_type": "code",
   "execution_count": 34,
   "metadata": {},
   "outputs": [],
   "source": [
    "# Ajustar el modelo\n",
    "clf = BernoulliNB()\n",
    "#clf = MultinomialNB()\n",
    "clf.fit(X, Y)\n",
    "Y_pred = clf.predict(X)"
   ]
  },
  {
   "cell_type": "code",
   "execution_count": 35,
   "metadata": {},
   "outputs": [
    {
     "data": {
      "text/plain": [
       "0.6598512634501206"
      ]
     },
     "execution_count": 35,
     "metadata": {},
     "output_type": "execute_result"
    }
   ],
   "source": [
    "np.mean(Y == Y_pred)\n",
    "# Nos predice casi un 66% de los casos."
   ]
  },
  {
   "cell_type": "code",
   "execution_count": 36,
   "metadata": {},
   "outputs": [
    {
     "data": {
      "text/plain": [
       "0.5789681655150054"
      ]
     },
     "execution_count": 36,
     "metadata": {},
     "output_type": "execute_result"
    }
   ],
   "source": [
    "1 - np.mean(Y)\n",
    "# Estamos ganando un 8% más en nuestro análisis explicativo."
   ]
  },
  {
   "cell_type": "code",
   "execution_count": 37,
   "metadata": {},
   "outputs": [],
   "source": [
    "X = df[[\"AirTime\", \"Distance\", \"TaxiIn\", \"TaxiOut\"]] #Depdelay\n",
    "clf = GaussianNB()\n",
    "clf.fit(X, Y)\n",
    "Y_pred = clf.predict(X)"
   ]
  },
  {
   "cell_type": "code",
   "execution_count": 38,
   "metadata": {},
   "outputs": [
    {
     "data": {
      "text/plain": [
       "0.6428093781028997"
      ]
     },
     "execution_count": 38,
     "metadata": {},
     "output_type": "execute_result"
    }
   ],
   "source": [
    "np.mean(Y == Y_pred)"
   ]
  },
  {
   "cell_type": "code",
   "execution_count": 39,
   "metadata": {},
   "outputs": [],
   "source": [
    "X = df[[\"AirTime\", \"Distance\", \"TaxiIn\", \"TaxiOut\", \"DepDelay\"]] #Depdelay\n",
    "clf = GaussianNB()\n",
    "clf.fit(X, Y)\n",
    "Y_pred = clf.predict(X)"
   ]
  },
  {
   "cell_type": "code",
   "execution_count": 40,
   "metadata": {},
   "outputs": [
    {
     "data": {
      "text/plain": [
       "0.8201078036029099"
      ]
     },
     "execution_count": 40,
     "metadata": {},
     "output_type": "execute_result"
    }
   ],
   "source": [
    "np.mean(Y == Y_pred)"
   ]
  },
  {
   "cell_type": "markdown",
   "metadata": {},
   "source": [
    "# Árboles de Clasificación y Regresión"
   ]
  },
  {
   "cell_type": "markdown",
   "metadata": {},
   "source": [
    "https://fhernanb.github.io/libro_mod_pred/arb-de-regre.html"
   ]
  },
  {
   "cell_type": "code",
   "execution_count": 1,
   "metadata": {},
   "outputs": [],
   "source": [
    "from sklearn import tree\n",
    "import numpy as np\n",
    "import pandas as pd\n",
    "from sklearn.metrics import r2_score\n",
    "\n",
    "# Eliminamos con dropna el subset ArrDelay los datos faltantes,\n",
    "# Reordenamos con sample (frac = 1)\n",
    "# Partimos en dos dataframes, el último medio millón de casos y los primeros.\n",
    "\n",
    "df = pd.read_csv(\"../../data/Cap 8/base_datos_2008.csv\")\n",
    "df = df.dropna(subset = [\"ArrDelay\"])\n",
    "df = df.sample(frac = 1)\n",
    "dftest = df.tail(500000)\n",
    "df = df.head(500000)"
   ]
  },
  {
   "cell_type": "code",
   "execution_count": 2,
   "metadata": {},
   "outputs": [],
   "source": [
    "clf = tree.DecisionTreeClassifier()\n",
    "\n",
    "# Entrenaremos el objeto clf utilizando el método fit con la variable regresora X y la respuesta Y\n",
    "\n",
    "X = df[[\"Distance\", \"AirTime\", \"DepTime\", \"TaxiIn\", \"TaxiOut\", \"DepDelay\"]]\n",
    "X_test = dftest[[\"Distance\", \"AirTime\", \"DepTime\", \"TaxiIn\", \"TaxiOut\", \"DepDelay\"]]\n",
    "Y = df[\"ArrDelay\"] > 10\n",
    "Y_test = dftest[\"ArrDelay\"] > 10\n",
    "\n",
    "clf = clf.fit(X, Y)\n",
    "Y_pred = clf.predict(X)\n",
    "Y_pred_test = clf.predict(X_test)"
   ]
  },
  {
   "cell_type": "code",
   "execution_count": 3,
   "metadata": {},
   "outputs": [
    {
     "data": {
      "text/plain": [
       "0.999996"
      ]
     },
     "execution_count": 3,
     "metadata": {},
     "output_type": "execute_result"
    }
   ],
   "source": [
    "np.mean(Y == Y_pred)"
   ]
  },
  {
   "cell_type": "code",
   "execution_count": 4,
   "metadata": {},
   "outputs": [
    {
     "data": {
      "text/plain": [
       "0.89375"
      ]
     },
     "execution_count": 4,
     "metadata": {},
     "output_type": "execute_result"
    }
   ],
   "source": [
    "# Nuestro modelo está clasificando perfectamente todos los datos.\n",
    "# Crea un árbol que predice exactamente todas las observaciones, hay que evitarlo.\n",
    "# Para ello, hay que comparar el conjunto de test con la previsión, hacemos una validación externa con el conjunto test.\n",
    "\n",
    "np.mean(Y_test == Y_pred_test)"
   ]
  },
  {
   "cell_type": "code",
   "execution_count": 5,
   "metadata": {},
   "outputs": [
    {
     "ename": "MemoryError",
     "evalue": "could not allocate 1350565888 bytes",
     "output_type": "error",
     "traceback": [
      "\u001b[1;31m---------------------------------------------------------------------------\u001b[0m",
      "\u001b[1;31mMemoryError\u001b[0m                               Traceback (most recent call last)",
      "\u001b[1;32m<ipython-input-5-1ea430e33bba>\u001b[0m in \u001b[0;36m<module>\u001b[1;34m\u001b[0m\n\u001b[0;32m      6\u001b[0m \u001b[0mY_test\u001b[0m \u001b[1;33m=\u001b[0m \u001b[0mdftest\u001b[0m\u001b[1;33m[\u001b[0m\u001b[1;34m\"ArrDelay\"\u001b[0m\u001b[1;33m]\u001b[0m\u001b[1;33m\u001b[0m\u001b[1;33m\u001b[0m\u001b[0m\n\u001b[0;32m      7\u001b[0m \u001b[1;33m\u001b[0m\u001b[0m\n\u001b[1;32m----> 8\u001b[1;33m \u001b[0mclf\u001b[0m \u001b[1;33m=\u001b[0m \u001b[0mclf\u001b[0m\u001b[1;33m.\u001b[0m\u001b[0mfit\u001b[0m\u001b[1;33m(\u001b[0m\u001b[0mX\u001b[0m\u001b[1;33m,\u001b[0m \u001b[0mY\u001b[0m\u001b[1;33m)\u001b[0m\u001b[1;33m\u001b[0m\u001b[1;33m\u001b[0m\u001b[0m\n\u001b[0m\u001b[0;32m      9\u001b[0m \u001b[0mY_pred\u001b[0m \u001b[1;33m=\u001b[0m \u001b[0mclf\u001b[0m\u001b[1;33m.\u001b[0m\u001b[0mpredict\u001b[0m\u001b[1;33m(\u001b[0m\u001b[0mX\u001b[0m\u001b[1;33m)\u001b[0m\u001b[1;33m\u001b[0m\u001b[1;33m\u001b[0m\u001b[0m\n\u001b[0;32m     10\u001b[0m \u001b[0mY_pred_test\u001b[0m \u001b[1;33m=\u001b[0m \u001b[0mclf\u001b[0m\u001b[1;33m.\u001b[0m\u001b[0mpredict\u001b[0m\u001b[1;33m(\u001b[0m\u001b[0mX_test\u001b[0m\u001b[1;33m)\u001b[0m\u001b[1;33m\u001b[0m\u001b[1;33m\u001b[0m\u001b[0m\n",
      "\u001b[1;32m~\\anaconda3\\lib\\site-packages\\sklearn\\tree\\_classes.py\u001b[0m in \u001b[0;36mfit\u001b[1;34m(self, X, y, sample_weight, check_input, X_idx_sorted)\u001b[0m\n\u001b[0;32m    896\u001b[0m         \"\"\"\n\u001b[0;32m    897\u001b[0m \u001b[1;33m\u001b[0m\u001b[0m\n\u001b[1;32m--> 898\u001b[1;33m         super().fit(\n\u001b[0m\u001b[0;32m    899\u001b[0m             \u001b[0mX\u001b[0m\u001b[1;33m,\u001b[0m \u001b[0my\u001b[0m\u001b[1;33m,\u001b[0m\u001b[1;33m\u001b[0m\u001b[1;33m\u001b[0m\u001b[0m\n\u001b[0;32m    900\u001b[0m             \u001b[0msample_weight\u001b[0m\u001b[1;33m=\u001b[0m\u001b[0msample_weight\u001b[0m\u001b[1;33m,\u001b[0m\u001b[1;33m\u001b[0m\u001b[1;33m\u001b[0m\u001b[0m\n",
      "\u001b[1;32m~\\anaconda3\\lib\\site-packages\\sklearn\\tree\\_classes.py\u001b[0m in \u001b[0;36mfit\u001b[1;34m(self, X, y, sample_weight, check_input, X_idx_sorted)\u001b[0m\n\u001b[0;32m    387\u001b[0m                                            min_impurity_split)\n\u001b[0;32m    388\u001b[0m \u001b[1;33m\u001b[0m\u001b[0m\n\u001b[1;32m--> 389\u001b[1;33m         \u001b[0mbuilder\u001b[0m\u001b[1;33m.\u001b[0m\u001b[0mbuild\u001b[0m\u001b[1;33m(\u001b[0m\u001b[0mself\u001b[0m\u001b[1;33m.\u001b[0m\u001b[0mtree_\u001b[0m\u001b[1;33m,\u001b[0m \u001b[0mX\u001b[0m\u001b[1;33m,\u001b[0m \u001b[0my\u001b[0m\u001b[1;33m,\u001b[0m \u001b[0msample_weight\u001b[0m\u001b[1;33m)\u001b[0m\u001b[1;33m\u001b[0m\u001b[1;33m\u001b[0m\u001b[0m\n\u001b[0m\u001b[0;32m    390\u001b[0m \u001b[1;33m\u001b[0m\u001b[0m\n\u001b[0;32m    391\u001b[0m         \u001b[1;32mif\u001b[0m \u001b[0mself\u001b[0m\u001b[1;33m.\u001b[0m\u001b[0mn_outputs_\u001b[0m \u001b[1;33m==\u001b[0m \u001b[1;36m1\u001b[0m \u001b[1;32mand\u001b[0m \u001b[0mis_classifier\u001b[0m\u001b[1;33m(\u001b[0m\u001b[0mself\u001b[0m\u001b[1;33m)\u001b[0m\u001b[1;33m:\u001b[0m\u001b[1;33m\u001b[0m\u001b[1;33m\u001b[0m\u001b[0m\n",
      "\u001b[1;32msklearn\\tree\\_tree.pyx\u001b[0m in \u001b[0;36msklearn.tree._tree.DepthFirstTreeBuilder.build\u001b[1;34m()\u001b[0m\n",
      "\u001b[1;32msklearn\\tree\\_tree.pyx\u001b[0m in \u001b[0;36msklearn.tree._tree.DepthFirstTreeBuilder.build\u001b[1;34m()\u001b[0m\n",
      "\u001b[1;32msklearn\\tree\\_tree.pyx\u001b[0m in \u001b[0;36msklearn.tree._tree.Tree._add_node\u001b[1;34m()\u001b[0m\n",
      "\u001b[1;32msklearn\\tree\\_tree.pyx\u001b[0m in \u001b[0;36msklearn.tree._tree.Tree._resize_c\u001b[1;34m()\u001b[0m\n",
      "\u001b[1;32msklearn\\tree\\_utils.pyx\u001b[0m in \u001b[0;36msklearn.tree._utils.safe_realloc\u001b[1;34m()\u001b[0m\n",
      "\u001b[1;31mMemoryError\u001b[0m: could not allocate 1350565888 bytes"
     ]
    }
   ],
   "source": [
    "# Utilizando el R-cuadrado, una medida estadística de qué tan cerca están los datos de la línea de regresión ajustada.\n",
    "\n",
    "clf = tree.DecisionTreeClassifier()\n",
    "\n",
    "Y = df[\"ArrDelay\"]\n",
    "Y_test = dftest[\"ArrDelay\"]\n",
    "\n",
    "clf = clf.fit(X, Y)\n",
    "Y_pred = clf.predict(X)\n",
    "Y_pred_test = clf.predict(X_test)\n",
    "\n",
    "print(\"R cuadrado: \", r2_score(Y, Y_pred))\n",
    "print(\"R cuadrado test: \", r2_score(Y_test, Y_pred_test))\n"
   ]
  },
  {
   "cell_type": "markdown",
   "metadata": {},
   "source": [
    "# Random Forest"
   ]
  },
  {
   "cell_type": "code",
   "execution_count": null,
   "metadata": {},
   "outputs": [],
   "source": [
    "# Selecciona de forma aleatoria observaciones de nuestra base de datos. Crea nuevos árboles de regresión y clasificación.\n",
    "# Da un peso variable a las distintas observaciones y variables.\n",
    "\n",
    "from sklearn import tree\n",
    "import numpy as np\n",
    "import pandas as pd\n",
    "from sklearn.ensemble import RandomForestClassifier\n",
    "\n",
    "df = pd.read_csv(\"../../data/Cap 8/base_datos_2008.csv\")\n",
    "df = df.dropna(subset = [\"ArrDelay\"])\n",
    "df = df.sample(frac = 1)\n",
    "dftest = df.tail(500000)\n",
    "df = df.head(500000)"
   ]
  },
  {
   "cell_type": "code",
   "execution_count": null,
   "metadata": {},
   "outputs": [],
   "source": [
    "clf = tree.DecisionTreeClassifier()\n",
    "\n",
    "X = df[[\"Distance\", \"AirTime\", \"DepTime\", \"TaxiIn\", \"TaxiOut\", \"DepDelay\"]]\n",
    "X_test = dftest[[\"Distance\", \"AirTime\", \"DepTime\", \"TaxiIn\", \"TaxiOut\", \"DepDelay\"]]\n",
    "Y = df[\"ArrDelay\"] > 10\n",
    "\n",
    "# Variable respuesta\n",
    "Y_test = dftest[\"ArrDelay\"] > 10\n",
    "\n",
    "# Entrenando nuestro modelo\n",
    "clf = clf.fit(X, Y)\n",
    "Y_pred_test = clf.predict(X_test)"
   ]
  },
  {
   "cell_type": "code",
   "execution_count": null,
   "metadata": {},
   "outputs": [],
   "source": [
    "np.mean(Y_test == Y_pred_test)"
   ]
  },
  {
   "cell_type": "code",
   "execution_count": null,
   "metadata": {},
   "outputs": [],
   "source": [
    "# Vamos a comparar con RandomForest, generamos 100 árboles y que utilice todos los núcleos de nuestro PC\n",
    "\n",
    "clf = RandomForestClassifier(n_estimators = 100, n_jobs = -1)\n",
    "clf.fit(X, Y)\n",
    "Y_pred_test = clf.predict(X_test)\n",
    "\n",
    "# Clasificamos las variables con mayor importancia, el retraso de salida DepDelay es el más aproximado.\n",
    "clf.feature_importances_"
   ]
  },
  {
   "cell_type": "code",
   "execution_count": null,
   "metadata": {},
   "outputs": [],
   "source": [
    "# Incrementa en un 3% la predicción del modelo anterior (árbol de clasificación).\n",
    "np.mean(Y_test == Y_pred_test)"
   ]
  },
  {
   "cell_type": "code",
   "execution_count": null,
   "metadata": {},
   "outputs": [],
   "source": [
    "# Si la variable respuesta fuera numérica utilizaríamos\n",
    "# RandomForestRegressor()\n",
    "# La métrica sería R2 en lugar de la comparación entre el modelo de test y el predictivo."
   ]
  },
  {
   "cell_type": "markdown",
   "metadata": {},
   "source": [
    "# Support Vector Machine"
   ]
  },
  {
   "cell_type": "markdown",
   "metadata": {},
   "source": [
    "https://scikit-learn.org/stable/modules/svm.html"
   ]
  },
  {
   "cell_type": "code",
   "execution_count": null,
   "metadata": {},
   "outputs": [],
   "source": [
    "# Divide los conjuntos de puntos mediante una recta, intentando maximizar la distancia de los puntos más cercanos a la recta.\n",
    "\n",
    "from sklearn.svm import SVC\n",
    "import numpy as np\n",
    "import pandas as pd\n",
    "\n",
    "df = pd.read_csv(\"../../data/Cap 8/base_datos_2008.csv\")\n",
    "df = df.dropna(subset = [\"ArrDelay\"])\n",
    "df = df.sample(frac = 1)\n",
    "dftest = df.tail(1000)\n",
    "df = df.head(1000)"
   ]
  },
  {
   "cell_type": "code",
   "execution_count": null,
   "metadata": {
    "scrolled": true
   },
   "outputs": [],
   "source": [
    "X = df[[\"Distance\", \"AirTime\", \"DepTime\", \"TaxiIn\", \"TaxiOut\", \"DepDelay\"]]\n",
    "X_test = dftest[[\"Distance\", \"AirTime\", \"DepTime\", \"TaxiIn\", \"TaxiOut\", \"DepDelay\"]]\n",
    "Y = df[\"ArrDelay\"] > 10\n",
    "\n",
    "# Variable respuesta\n",
    "Y_test = dftest[\"ArrDelay\"] > 10\n",
    "\n",
    "# Entrenando nuestro modelo\n",
    "clf = SVC() # kernel = \"linear\"\n",
    "clf = clf.fit(X, Y)\n",
    "Y_pred_test = clf.predict(X_test)"
   ]
  },
  {
   "cell_type": "code",
   "execution_count": null,
   "metadata": {},
   "outputs": [],
   "source": [
    "np.mean(Y_test == Y_pred_test)"
   ]
  },
  {
   "cell_type": "markdown",
   "metadata": {},
   "source": [
    "# Modelo K-Nearest"
   ]
  },
  {
   "cell_type": "code",
   "execution_count": null,
   "metadata": {},
   "outputs": [],
   "source": [
    "# Clasifica cada punto en una categoría dependiendo de sus vecinos más cercanos.\n",
    "from sklearn.neighbors import KNeighborsClassifier\n",
    "import numpy as np\n",
    "import pandas as pd\n",
    "\n",
    "df = pd.read_csv(\"../../data/Cap 8/base_datos_2008.csv\", nrows = 1e6)"
   ]
  },
  {
   "cell_type": "code",
   "execution_count": null,
   "metadata": {},
   "outputs": [],
   "source": [
    "newdf = df[[\"AirTime\", \"Distance\", \"TaxiOut\", \"ArrDelay\"]].dropna()\n",
    "cols = newdf[newdf.columns[newdf.columns != \"ArrDelay\"]]"
   ]
  },
  {
   "cell_type": "code",
   "execution_count": null,
   "metadata": {},
   "outputs": [],
   "source": [
    "filtro = newdf[\"ArrDelay\"] > 10"
   ]
  },
  {
   "cell_type": "code",
   "execution_count": null,
   "metadata": {},
   "outputs": [],
   "source": [
    "# Ponemos etiquetas a nuestros casos.\n",
    "newdf[\"ArrDelay\"][filtro] = \"Delayed\"\n",
    "newdf[\"ArrDelay\"][filtro == False] = \"Not Delayed\""
   ]
  },
  {
   "cell_type": "code",
   "execution_count": null,
   "metadata": {},
   "outputs": [],
   "source": [
    "newdf[\"ArrDelay\"].head()"
   ]
  },
  {
   "cell_type": "code",
   "execution_count": null,
   "metadata": {},
   "outputs": [],
   "source": [
    "nbrs_3 = KNeighborsClassifier(n_neighbors = 3, n_jobs = -1)"
   ]
  },
  {
   "cell_type": "code",
   "execution_count": null,
   "metadata": {},
   "outputs": [],
   "source": [
    "nbrs_3.fit(cols, newdf[\"ArrDelay\"])"
   ]
  },
  {
   "cell_type": "code",
   "execution_count": null,
   "metadata": {},
   "outputs": [],
   "source": [
    "predicciones_3 = nbrs_3.predict(cols)"
   ]
  },
  {
   "cell_type": "code",
   "execution_count": null,
   "metadata": {},
   "outputs": [],
   "source": [
    "np.mean(predicciones_3 == newdf[\"ArrDelay\"])"
   ]
  },
  {
   "cell_type": "code",
   "execution_count": null,
   "metadata": {},
   "outputs": [],
   "source": [
    "# El 80,4% están clasificados correctamente, esta medida puede ser engañosa, ya que no conocemos la proporción de nuestros datos\n",
    "np.mean(newdf[\"ArrDelay\"] == \"Not Delayed\")"
   ]
  },
  {
   "cell_type": "code",
   "execution_count": null,
   "metadata": {},
   "outputs": [],
   "source": [
    "# Casi el 70% de vuelos no se han retrasado, con el modelo estamos indicando 80,4%, hay una desviación de 10 puntos.\n",
    "# Vamos a ir ajustando mejor la métrica, miramos solo el vecino de al lado.\n",
    "nbrs_1 = KNeighborsClassifier(n_neighbors = 1, n_jobs = -1)\n",
    "nbrs_1.fit(cols, newdf[\"ArrDelay\"])\n",
    "predicciones_1 = nbrs_1.predict(cols)\n",
    "np.mean(predicciones_1 == newdf[\"ArrDelay\"])"
   ]
  },
  {
   "cell_type": "code",
   "execution_count": null,
   "metadata": {},
   "outputs": [],
   "source": [
    "# Observando el vecino más cercano obtenemos una mejor predicción que observando los tres más cercanos.\n",
    "np.mean(newdf[\"ArrDelay\"] == \"Not Delayed\")"
   ]
  },
  {
   "cell_type": "code",
   "execution_count": null,
   "metadata": {},
   "outputs": [],
   "source": [
    "# Exploramos la matriz de confusión para ver cuánto de bien hemos predicho los casos.\n",
    "from sklearn.metrics import confusion_matrix\n",
    "confusion_matrix = confusion_matrix(newdf[\"ArrDelay\"], predicciones_1)\n",
    "print(confusion_matrix)"
   ]
  },
  {
   "cell_type": "code",
   "execution_count": null,
   "metadata": {},
   "outputs": [],
   "source": [
    "# El elmento (1,1) es el número de vuelos que no se retrasan y que predecimos que no se retrasan\n",
    "# El elemento (0,0) es el número de vuelos que se retrasan y que predecimos como que se retrasan\n",
    "# El elemento (0,1) son vuelos que no se retrasan pero que hemos clasificado como que sí se retrasan\n",
    "# El elemento (1,0) son vuelos que se retrasan pero que hemos clasificado como que no se retrasan"
   ]
  },
  {
   "cell_type": "markdown",
   "metadata": {},
   "source": [
    "# Validación Externa en Python"
   ]
  },
  {
   "attachments": {
    "Validacion_interna_externa-2.png": {
     "image/png": "[encoded data removed]"
    }
   },
   "cell_type": "markdown",
   "metadata": {},
   "source": [
    "Cuando usemos todos los datos para entrenar y evaluar, tenemos evaluación interna. Si tenemos un conjunto de datos para entrenar y otro para evaluar estamos en la evaluación externa.\n",
    "![Validacion_interna_externa-2.png](attachment:Validacion_interna_externa-2.png)"
   ]
  },
  {
   "cell_type": "code",
   "execution_count": null,
   "metadata": {},
   "outputs": [],
   "source": [
    "import pandas as pd\n",
    "from sklearn.model_selection import train_test_split\n",
    "from sklearn import linear_model\n",
    "from sklearn.metrics import r2_score"
   ]
  },
  {
   "cell_type": "code",
   "execution_count": null,
   "metadata": {},
   "outputs": [],
   "source": [
    "data = pd.read_csv(\"../../data/Cap 8/base_datos_2008.csv\")"
   ]
  },
  {
   "cell_type": "code",
   "execution_count": null,
   "metadata": {},
   "outputs": [],
   "source": [
    "df = data.dropna(subset = [\"ArrDelay\"])\n",
    "df = df.sample(frac=1).head(1000)\n",
    "\n",
    "X = df[['AirTime', 'Distance', 'DepDelay']]\n",
    "Y = df['ArrDelay']"
   ]
  },
  {
   "cell_type": "code",
   "execution_count": null,
   "metadata": {},
   "outputs": [],
   "source": [
    "# El tamaño del test se establece en un 20% e incluimos el atributo random_state = 10 fijo una semilla para que cuando \n",
    "# se vuelva a repetir el ejercicio obtener el mismo resultado.\n",
    "X_train, X_test, y_train, y_test = train_test_split(X, Y, test_size =.2, random_state = 10)"
   ]
  },
  {
   "cell_type": "code",
   "execution_count": null,
   "metadata": {},
   "outputs": [],
   "source": [
    "# En este primer caso estamos ajustando un modelo R2 teniendo en cuenta el conjunto de datos\n",
    "regrINTERNA = linear_model.LinearRegression()\n",
    "regrINTERNA.fit(X, Y)\n",
    "prediccionesINTERNA = regrINTERNA.predict(X)\n",
    "print(\"R2: \", r2_score(Y, prediccionesINTERNA))\n",
    "\n",
    "# En este segundo caso estamos ajustando un modelo R2 teniendo en cuenta el conjunto de entrenamiento y test\n",
    "regrEXTERNA = linear_model.LinearRegression()\n",
    "regrEXTERNA.fit(X_train, y_train)\n",
    "prediccionesEXTERNA = regrEXTERNA.predict(X_test)\n",
    "print(\"R2: \", r2_score(y_test, prediccionesEXTERNA))\n",
    "\n",
    "# En principio el R2 correspondiente al ajuste con todos los datos y lo evaluamos con los mismos datos, \n",
    "# tendemos a sobreajustar el modelo, esto implica tener unos resultados de predicción mucho más elevados\n",
    "# que en el caso de utilizar unos datos de entrenamiento. "
   ]
  },
  {
   "cell_type": "markdown",
   "metadata": {},
   "source": [
    "# K-Fold"
   ]
  },
  {
   "cell_type": "code",
   "execution_count": null,
   "metadata": {},
   "outputs": [],
   "source": [
    "import pandas as pd\n",
    "from sklearn.model_selection import KFold\n",
    "from sklearn import linear_model\n",
    "from sklearn.metrics import r2_score\n",
    "import numpy as np\n",
    "\n",
    "# En el caso anterior dependiendo de los datos que caigan en Train o en Testing el R2 variará.\n",
    "# Con K-Fold lo que hacemos es obtener una media de un conjunto de particiones de datos, de forma que el resultado\n",
    "# obtenido puede ser más fiable.\n",
    "# Replicamos múltiples veces este proceso:  \n",
    "# X_train, X_test, y_train, y_test = train_test_split(X, Y, test_size =.2, random_state = 10)"
   ]
  },
  {
   "cell_type": "code",
   "execution_count": null,
   "metadata": {},
   "outputs": [],
   "source": [
    "data = pd.read_csv(\"../../data/Cap 8/base_datos_2008.csv\")"
   ]
  },
  {
   "cell_type": "code",
   "execution_count": null,
   "metadata": {},
   "outputs": [],
   "source": [
    "df = data.dropna(subset = [\"ArrDelay\"])\n",
    "df = df.sample(frac=1).head(5000)\n",
    "\n",
    "# Reseteamos el index de nuestra base de datos al hacer selección aleatoria.\n",
    "df = df.reset_index()\n",
    "\n",
    "X = df[['AirTime', 'Distance', 'DepDelay']]\n",
    "Y = df['ArrDelay']"
   ]
  },
  {
   "cell_type": "code",
   "execution_count": null,
   "metadata": {},
   "outputs": [],
   "source": [
    "# Hacemos una partición en 10 bloques, y cada vez que haga una partición mezcle los datos shuffle = True\n",
    "kf = KFold(n_splits = 10, shuffle = True)\n",
    "kf.get_n_splits(X)"
   ]
  },
  {
   "cell_type": "code",
   "execution_count": null,
   "metadata": {},
   "outputs": [],
   "source": [
    "regr = linear_model.LinearRegression()\n",
    "\n",
    "# Creamos un vector donde vamos a estar guardando todos los resultados.\n",
    "resultados = []\n",
    "\n",
    "for train_index, test_index in kf.split(X):\n",
    "    X_train, X_test = X.loc[train_index,], X.loc[test_index,]\n",
    "    y_train, y_test = Y[train_index], Y[test_index]\n",
    "    regr.fit(X_train, y_train)\n",
    "    predicciones = regr.predict(X_test)\n",
    "    print(\"R2: \", r2_score(y_test, predicciones))\n",
    "    resultados.append(r2_score(y_test, predicciones))\n",
    "print(\"R2 medio: \", np.mean(resultados))\n",
    "\n",
    "# Compensamos la dependencia de datos concretos, es mucho más representativa utilizar KFold"
   ]
  },
  {
   "cell_type": "markdown",
   "metadata": {},
   "source": [
    "# Leave one out"
   ]
  },
  {
   "cell_type": "code",
   "execution_count": null,
   "metadata": {},
   "outputs": [],
   "source": [
    "# En este caso vamos a entrenar el modelo con todos los datos menos uno.\n",
    "# De utilidad cuando tenemos tamaños de muestra muy reducidos, ya que si no repeteríamos el proceso n-1 veces.\n",
    "import pandas as pd\n",
    "from sklearn.model_selection import LeaveOneOut\n",
    "from sklearn import linear_model\n",
    "import numpy as np"
   ]
  },
  {
   "cell_type": "code",
   "execution_count": null,
   "metadata": {},
   "outputs": [],
   "source": [
    "data = pd.read_csv(\"../../data/Cap 8/base_datos_2008.csv\")"
   ]
  },
  {
   "cell_type": "code",
   "execution_count": null,
   "metadata": {},
   "outputs": [],
   "source": [
    "df = data.dropna(subset = [\"ArrDelay\"])\n",
    "df = df.sample(frac=1).head(5000)\n",
    "\n",
    "# Reseteamos el index de nuestra base de datos al hacer selección aleatoria.\n",
    "df = df.reset_index()\n",
    "\n",
    "X = df[['AirTime', 'Distance', 'DepDelay']]\n",
    "Y = df['ArrDelay']"
   ]
  },
  {
   "cell_type": "code",
   "execution_count": null,
   "metadata": {},
   "outputs": [],
   "source": [
    "loo = LeaveOneOut()"
   ]
  },
  {
   "cell_type": "code",
   "execution_count": null,
   "metadata": {},
   "outputs": [],
   "source": [
    "for train_index, test_index in loo.split(X):\n",
    "    X_train, X_test = X.loc[train_index,], X.loc[test_index,]\n",
    "    y_train, y_test = Y[train_index], Y[test_index]\n",
    "    regr.fit(X_train, y_train)\n",
    "    predicciones = regr.predict(X_test)\n",
    "    print(\"Error: \", (y_test - predicciones[0])**2)"
   ]
  },
  {
   "cell_type": "markdown",
   "metadata": {},
   "source": [
    "# Redes Neuronales"
   ]
  },
  {
   "cell_type": "markdown",
   "metadata": {},
   "source": [
    "https://es.wikipedia.org/wiki/Red_neuronal_artificial"
   ]
  },
  {
   "attachments": {
    "RNN.png": {
     "image/png": "[encoded data removed]"
    }
   },
   "cell_type": "markdown",
   "metadata": {},
   "source": [
    "![RNN.png](attachment:RNN.png)"
   ]
  },
  {
   "cell_type": "code",
   "execution_count": null,
   "metadata": {},
   "outputs": [],
   "source": [
    "## Esta primera si tenemos datos categóricos.\n",
    "from sklearn.neural_network import MLPClassifier\n",
    "## Esta segunda si tenemos datos numéricos.\n",
    "from sklearn.neural_network import MLPRegressor\n",
    "from sklearn.preprocessing import StandardScaler\n",
    "\n",
    "from sklearn.model_selection import train_test_split\n",
    "from sklearn.metrics import r2_score\n",
    "import pandas as pd"
   ]
  },
  {
   "cell_type": "code",
   "execution_count": null,
   "metadata": {},
   "outputs": [],
   "source": [
    "data = pd.read_csv(\"../../data/Cap 8/base_datos_2008.csv\")"
   ]
  },
  {
   "cell_type": "code",
   "execution_count": null,
   "metadata": {},
   "outputs": [],
   "source": [
    "df = data.dropna(subset = ['AirTime', 'Distance', 'TaxiIn', 'TaxiOut', 'DepDelay'])\n",
    "df = df.sample(frac = 1).head(1000)"
   ]
  },
  {
   "cell_type": "code",
   "execution_count": null,
   "metadata": {},
   "outputs": [],
   "source": [
    "X = df[['AirTime', 'Distance', 'TaxiIn', 'TaxiOut', 'DepDelay']]\n",
    "Y = df['ArrDelay']"
   ]
  },
  {
   "cell_type": "code",
   "execution_count": null,
   "metadata": {},
   "outputs": [],
   "source": [
    "X_train, X_test, y_train, y_test = train_test_split(X, Y, test_size =.2, random_state = 1)"
   ]
  },
  {
   "cell_type": "code",
   "execution_count": null,
   "metadata": {},
   "outputs": [],
   "source": [
    "scaler = StandardScaler()\n",
    "scaler.fit(X_train)\n",
    "\n",
    "X_train = scaler.transform(X_train)\n",
    "X_test = scaler.transform(X_test)\n"
   ]
  },
  {
   "cell_type": "code",
   "execution_count": null,
   "metadata": {},
   "outputs": [],
   "source": [
    "clf = MLPRegressor(solver = 'lbfgs', alpha = 1e-5, hidden_layer_sizes = (5,))\n",
    "\n",
    "model = clf.fit(X_train, y_train)\n",
    "\n",
    "predictions = model.predict(X_test)\n",
    "print(\"R cuadrado: \", r2_score(y_test, predictions))"
   ]
  },
  {
   "cell_type": "markdown",
   "metadata": {},
   "source": [
    "# XGBoost y árboles de clasificación"
   ]
  },
  {
   "cell_type": "code",
   "execution_count": null,
   "metadata": {},
   "outputs": [],
   "source": [
    "# pip install xgboost\n",
    "from xgboost import XGBRegressor\n",
    "from sklearn.preprocessing import StandardScaler\n",
    "\n",
    "from sklearn.model_selection import train_test_split\n",
    "from sklearn.metrics import r2_score\n",
    "import pandas as pd"
   ]
  },
  {
   "cell_type": "code",
   "execution_count": null,
   "metadata": {},
   "outputs": [],
   "source": [
    "data = pd.read_csv(\"../../data/Cap 8/base_datos_2008.csv\")"
   ]
  },
  {
   "cell_type": "code",
   "execution_count": null,
   "metadata": {},
   "outputs": [],
   "source": [
    "df = data.dropna(subset = [\"ArrDelay\"])\n",
    "df = df.sample(frac = 1).head(10000)\n",
    "\n",
    "X = df[['AirTime', 'Distance', 'TaxiIn', 'TaxiOut', 'DepDelay']]\n",
    "Y = df['ArrDelay']"
   ]
  },
  {
   "cell_type": "code",
   "execution_count": null,
   "metadata": {},
   "outputs": [],
   "source": [
    "X_train, X_test, y_train, y_test = train_test_split(X, Y, test_size =.2, random_state = 1)"
   ]
  },
  {
   "cell_type": "code",
   "execution_count": null,
   "metadata": {},
   "outputs": [],
   "source": [
    "scaler = StandardScaler()\n",
    "scaler.fit(X_train)\n",
    "\n",
    "X_train = scaler.transform(X_train)\n",
    "X_test = scaler.transform(X_test)"
   ]
  },
  {
   "cell_type": "code",
   "execution_count": null,
   "metadata": {},
   "outputs": [],
   "source": [
    "model = XGBRegressor(n_jobs = -1, learning_rate = .5, max_depth = 2, colsample_bytree = 1, verbosity = 2, subsample = 1,\n",
    "                     n_estimators = 500)\n",
    "model.fit(X_train, y_train)"
   ]
  },
  {
   "cell_type": "code",
   "execution_count": null,
   "metadata": {},
   "outputs": [],
   "source": [
    "predictions = model.predict(X_test)\n",
    "print(\"R cuadrado: \", r2_score(y_test, predictions))"
   ]
  },
  {
   "cell_type": "markdown",
   "metadata": {},
   "source": [
    "# Seleccionar Variables en Machine Learning"
   ]
  },
  {
   "cell_type": "markdown",
   "metadata": {},
   "source": [
    "A veces no es recomendable ajustar los modelos con todas las columnas del modelo de datos."
   ]
  },
  {
   "cell_type": "code",
   "execution_count": null,
   "metadata": {},
   "outputs": [],
   "source": [
    "from sklearn import linear_model\n",
    "import statsmodels.api as sm\n",
    "import pandas as pd"
   ]
  },
  {
   "cell_type": "code",
   "execution_count": null,
   "metadata": {},
   "outputs": [],
   "source": [
    "data = pd.read_csv(\"../../data/Cap 8/base_datos_2008.csv\")"
   ]
  },
  {
   "cell_type": "code",
   "execution_count": null,
   "metadata": {},
   "outputs": [],
   "source": [
    "df = data.dropna(subset = ['AirTime', 'Distance', 'TaxiIn', 'TaxiOut', 'DayOfWeek', 'DayofMonth', 'Month', 'DepDelay', 'WeatherDelay'])\n",
    "df = df.sample(frac=1).head(1000)"
   ]
  },
  {
   "cell_type": "code",
   "execution_count": null,
   "metadata": {},
   "outputs": [],
   "source": [
    "X = df[['AirTime', 'Distance', 'TaxiIn', 'TaxiOut', 'DayOfWeek', 'DayofMonth', 'Month', 'DepDelay', 'WeatherDelay']]\n",
    "Y = df['ArrDelay']\n",
    "\n",
    "# ¿Son necesarias todas estas variables? Veamos la importancia de las variables en el modelo.\n",
    "\n",
    "regr = linear_model.LinearRegression()\n",
    "regr.fit (X, Y)\n",
    "predicciones = regr.predict(X)"
   ]
  },
  {
   "cell_type": "code",
   "execution_count": null,
   "metadata": {},
   "outputs": [],
   "source": [
    "X2 = sm.add_constant(X)\n",
    "est = sm.OLS(Y, X2)\n",
    "est2 = est.fit()\n",
    "print(est2.summary())\n",
    "\n",
    "# la columna P, se trata de los p-valores, indican lo relevante o no de cada variable en el modelo.\n",
    "# Si el valor es 0 la respuesta es significativa, en caso contrario, la columna puede ser prescindible en el ajuste del modelo."
   ]
  },
  {
   "cell_type": "code",
   "execution_count": null,
   "metadata": {},
   "outputs": [],
   "source": [
    "# Si cambiamos una variable, vemos cómo afecta al resto. Suprimimos DayOfWeek y vemos cómo afecta al resto.\n",
    "\n",
    "X = df[['AirTime', 'Distance', 'TaxiIn', 'TaxiOut', 'DayofMonth', 'Month', 'DepDelay', 'WeatherDelay']]\n",
    "Y = df['ArrDelay']\n",
    "\n",
    "regr = linear_model.LinearRegression()\n",
    "regr.fit (X, Y)\n",
    "predicciones = regr.predict(X)"
   ]
  },
  {
   "cell_type": "code",
   "execution_count": null,
   "metadata": {},
   "outputs": [],
   "source": [
    "X2 = sm.add_constant(X)\n",
    "est = sm.OLS(Y, X2)\n",
    "est2 = est.fit()\n",
    "print(est2.summary())"
   ]
  },
  {
   "cell_type": "code",
   "execution_count": null,
   "metadata": {},
   "outputs": [],
   "source": [
    "# Si cambiamos una variable, vemos cómo afecta al resto. Suprimimos DayofMonth y vemos cómo afecta al resto.\n",
    "\n",
    "X = df[['AirTime', 'Distance', 'TaxiIn', 'TaxiOut', 'Month', 'DepDelay', 'WeatherDelay']]\n",
    "Y = df['ArrDelay']\n",
    "\n",
    "regr = linear_model.LinearRegression()\n",
    "regr.fit (X, Y)\n",
    "predicciones = regr.predict(X)"
   ]
  },
  {
   "cell_type": "code",
   "execution_count": null,
   "metadata": {},
   "outputs": [],
   "source": [
    "X2 = sm.add_constant(X)\n",
    "est = sm.OLS(Y, X2)\n",
    "est2 = est.fit()\n",
    "print(est2.summary())"
   ]
  },
  {
   "cell_type": "code",
   "execution_count": null,
   "metadata": {},
   "outputs": [],
   "source": [
    "# Si cambiamos una variable, vemos cómo afecta al resto. Suprimimos Month y vemos cómo afecta al resto.\n",
    "\n",
    "X = df[['AirTime', 'Distance', 'TaxiIn', 'TaxiOut', 'DepDelay', 'WeatherDelay']]\n",
    "Y = df['ArrDelay']\n",
    "\n",
    "regr = linear_model.LinearRegression()\n",
    "regr.fit (X, Y)\n",
    "predicciones = regr.predict(X)"
   ]
  },
  {
   "cell_type": "code",
   "execution_count": null,
   "metadata": {},
   "outputs": [],
   "source": [
    "X2 = sm.add_constant(X)\n",
    "est = sm.OLS(Y, X2)\n",
    "est2 = est.fit()\n",
    "print(est2.summary())"
   ]
  },
  {
   "cell_type": "code",
   "execution_count": null,
   "metadata": {},
   "outputs": [],
   "source": [
    "# Por último WeatherDelay\n",
    "\n",
    "X = df[['AirTime', 'Distance', 'TaxiIn', 'TaxiOut', 'DepDelay']]\n",
    "Y = df['ArrDelay']\n",
    "\n",
    "regr = linear_model.LinearRegression()\n",
    "regr.fit (X, Y)\n",
    "predicciones = regr.predict(X)"
   ]
  },
  {
   "cell_type": "code",
   "execution_count": null,
   "metadata": {},
   "outputs": [],
   "source": [
    "X2 = sm.add_constant(X)\n",
    "est = sm.OLS(Y, X2)\n",
    "est2 = est.fit()\n",
    "print(est2.summary())"
   ]
  },
  {
   "cell_type": "markdown",
   "metadata": {},
   "source": [
    "Lo que estaba ocurriendo es que estábamos tratando las variables no numéricas como números... Por eso no eran relevantes.\n",
    "Python estaba tratando estas variables como si el día 2 fuese el doble que el día 1,...\n",
    "Se puede arreglar ajustando el modelo con dummies, de forma que no haya diferencia entre el mes 1 y el 10 por ejemplo."
   ]
  },
  {
   "cell_type": "markdown",
   "metadata": {},
   "source": [
    "# Selección automatizada de variables en Machine Learning"
   ]
  },
  {
   "cell_type": "code",
   "execution_count": null,
   "metadata": {},
   "outputs": [],
   "source": [
    "from sklearn.feature_selection import RFE\n",
    "from sklearn import linear_model\n",
    "import pandas as pd"
   ]
  },
  {
   "cell_type": "code",
   "execution_count": null,
   "metadata": {},
   "outputs": [],
   "source": [
    "data = pd.read_csv(\"../../data/Cap 8/base_datos_2008.csv\")"
   ]
  },
  {
   "cell_type": "code",
   "execution_count": null,
   "metadata": {},
   "outputs": [],
   "source": [
    "df = data.dropna(subset = ['AirTime', 'Distance', 'TaxiIn', 'TaxiOut', 'DayOfWeek', 'DayofMonth', 'Month', 'DepDelay', 'WeatherDelay'])\n",
    "df = df.sample(frac=1).head(1000)\n",
    "\n",
    "X = df[['AirTime', 'Distance', 'TaxiIn', 'TaxiOut', 'Month', 'DepDelay', 'WeatherDelay']]\n",
    "Y = df['ArrDelay']\n",
    "\n",
    "regr = linear_model.LinearRegression()"
   ]
  },
  {
   "cell_type": "code",
   "execution_count": null,
   "metadata": {},
   "outputs": [],
   "source": [
    "# Detectaremos con linear_model.LinearRegression() cuáles son las variables más útiles.\n",
    "selector = RFE(estimator = regr, n_features_to_select = 5)\n",
    "\n",
    "# Entrenamos el objeto selector con nuestros datos\n",
    "selector.fit(X, Y)"
   ]
  },
  {
   "cell_type": "code",
   "execution_count": null,
   "metadata": {},
   "outputs": [],
   "source": [
    "# Mostramos los resultados, con qué variables nos hemos quedado.\n",
    "print(selector.ranking_)"
   ]
  },
  {
   "cell_type": "code",
   "execution_count": null,
   "metadata": {},
   "outputs": [],
   "source": [
    "# El resultado anterior nos da el ranking, pero no los nombres de las variables con las que nos hemos quedado.\n",
    "X.columns[selector.support_]"
   ]
  },
  {
   "cell_type": "code",
   "execution_count": null,
   "metadata": {},
   "outputs": [],
   "source": [
    "# Modificamos a 1 el número de objetos con los que me quedo.\n",
    "selector = RFE(estimator = regr, n_features_to_select = 1)\n",
    "selector.fit(X,Y)"
   ]
  },
  {
   "cell_type": "code",
   "execution_count": null,
   "metadata": {},
   "outputs": [],
   "source": [
    "# Mostramos los resultados, con qué variables nos hemos quedado.\n",
    "print(selector.ranking_)"
   ]
  },
  {
   "cell_type": "code",
   "execution_count": null,
   "metadata": {},
   "outputs": [],
   "source": [
    "# Ahora vemos cuál es la variable más relevante, la más correlacionada.\n",
    "X.columns[selector.support_]"
   ]
  },
  {
   "cell_type": "markdown",
   "metadata": {},
   "source": [
    "# Fundamentos de PCA (Principal Component Analysis)"
   ]
  },
  {
   "cell_type": "code",
   "execution_count": null,
   "metadata": {},
   "outputs": [],
   "source": [
    "from sklearn.decomposition import PCA\n",
    "from sklearn.preprocessing import StandardScaler\n",
    "import matplotlib.pyplot as plt\n",
    "import numpy as np\n",
    "import pandas as pd"
   ]
  },
  {
   "cell_type": "code",
   "execution_count": null,
   "metadata": {},
   "outputs": [],
   "source": [
    "data = pd.read_csv(\"../../data/Cap 8/base_datos_2008.csv\")"
   ]
  },
  {
   "cell_type": "code",
   "execution_count": null,
   "metadata": {},
   "outputs": [],
   "source": [
    "# Con PCA comprimimos la variabilidad de las columnas que tenemos en menos columnas. Reducimos la dimensionalidad de matrices.\n",
    "df = data.dropna(subset = ['AirTime', 'Distance', 'TaxiIn', 'TaxiOut', 'DepDelay', 'ArrDelay'])\n",
    "df = df.sample(frac=1).head(1000)\n",
    "\n",
    "X = df[['AirTime', 'Distance', 'TaxiIn', 'TaxiOut', 'DepDelay', 'ArrDelay']]\n",
    "\n",
    "# Lo más importante es escalar las variables, ya que los pesos de cada una deben ser iguales (Distancia es mayor que retraso).\n",
    "scaler = StandardScaler()\n",
    "scaler.fit(X)\n",
    "\n",
    "X = scaler.transform(X)"
   ]
  },
  {
   "cell_type": "code",
   "execution_count": null,
   "metadata": {},
   "outputs": [],
   "source": [
    "pca = PCA(n_components = 2)\n",
    "pca.fit(X)"
   ]
  },
  {
   "cell_type": "code",
   "execution_count": null,
   "metadata": {},
   "outputs": [],
   "source": [
    "pca.components_"
   ]
  },
  {
   "cell_type": "code",
   "execution_count": null,
   "metadata": {},
   "outputs": [],
   "source": [
    "print(np.round(pca.components_, 2))"
   ]
  },
  {
   "cell_type": "markdown",
   "metadata": {},
   "source": [
    "'AirTime', 'Distance', 'TaxiIn', 'TaxiOut', 'DepDelay', 'ArrDelay'\n",
    "El efecto que tiene la primera y segunda variable (creadas con PCA) sobre el resto de componentes.\n",
    "Vemos qué porcentaje de varianza de los datos originales queda resumido en los dos componentes del array representado con PCA."
   ]
  },
  {
   "cell_type": "code",
   "execution_count": null,
   "metadata": {},
   "outputs": [],
   "source": [
    "pca.explained_variance_ratio_"
   ]
  },
  {
   "cell_type": "code",
   "execution_count": null,
   "metadata": {},
   "outputs": [],
   "source": [
    "# El primer componente ocupa el 36 % de la variabilidad y el segundo un 31 %.\n",
    "# Ahora visualizamos los resultados obtenidos.\n",
    "nuevosvalores = pca.transform(X)"
   ]
  },
  {
   "cell_type": "code",
   "execution_count": null,
   "metadata": {},
   "outputs": [],
   "source": [
    "plt.scatter(nuevosvalores[:, 0], nuevosvalores[:, 1])"
   ]
  },
  {
   "cell_type": "code",
   "execution_count": null,
   "metadata": {},
   "outputs": [],
   "source": [
    "# Vemos como se distribuyen los vuelos de la BD en este nuevo espacio, casi un 68 % de la variabilidad. Esto es útil para ahorro\n",
    "# de memoria y visualizar resultados."
   ]
  },
  {
   "cell_type": "markdown",
   "metadata": {},
   "source": [
    "# Imputación de valores en Machine Learning"
   ]
  },
  {
   "cell_type": "code",
   "execution_count": null,
   "metadata": {},
   "outputs": [],
   "source": [
    "from sklearn.impute import SimpleImputer\n",
    "from sklearn import linear_model\n",
    "import numpy as np\n",
    "import pandas as pd"
   ]
  },
  {
   "cell_type": "code",
   "execution_count": null,
   "metadata": {},
   "outputs": [],
   "source": [
    "data = pd.read_csv(\"../../data/Cap 8/base_datos_2008.csv\")"
   ]
  },
  {
   "cell_type": "code",
   "execution_count": null,
   "metadata": {},
   "outputs": [],
   "source": [
    "df = data.sample(frac = 1).head(10000)\n",
    "X = df[['AirTime', 'Distance', 'TaxiIn', 'TaxiOut', 'DepDelay', 'ArrDelay', 'CarrierDelay']]"
   ]
  },
  {
   "cell_type": "code",
   "execution_count": null,
   "metadata": {},
   "outputs": [],
   "source": [
    "X"
   ]
  },
  {
   "cell_type": "code",
   "execution_count": null,
   "metadata": {},
   "outputs": [],
   "source": [
    "# En este caso tenemos muchos datos faltantes en la columna CarrierDelay\n",
    "# Podemos en este caso obviarlo, o bien imputarle un valor, que escogeremos basándonos de cierta información.\n",
    "\n",
    "# Vamos en un primer caso a proporcionar el valor medio y en segundo caso calcular el valor en función del resto de valores.\n",
    "# En el primer caso, utilizando el valor medio estaremos subestimando la varianza, reducen la varianza de la columna, sin \n",
    "# incrementarla.\n",
    "\n",
    "imp = SimpleImputer(missing_values = np.nan, strategy = \"mean\")\n",
    "imp.fit(X)"
   ]
  },
  {
   "cell_type": "code",
   "execution_count": null,
   "metadata": {},
   "outputs": [],
   "source": [
    "X2 = imp.fit_transform(X)"
   ]
  },
  {
   "cell_type": "code",
   "execution_count": null,
   "metadata": {},
   "outputs": [],
   "source": [
    "pd.DataFrame(X2)\n",
    "# los datos que faltaban tienen el valor medio."
   ]
  },
  {
   "cell_type": "code",
   "execution_count": null,
   "metadata": {},
   "outputs": [],
   "source": [
    "# Establezcamos una estructura de correlación en nuestra base de datos, en este caso es fácil, el retraso de salida y llegada.\n",
    "X.corr()"
   ]
  },
  {
   "cell_type": "code",
   "execution_count": null,
   "metadata": {},
   "outputs": [],
   "source": [
    "# Observamos que las filas que tienen mayor correlación con CarrierDelay son el retraso ArrDelay y DepDelay.\n",
    "# Vamos a ajustar un modelo de regresión que prediga CarrierDelay en aquellos casos donde no tenemos valor, en función de\n",
    "# ArrDelay y DepDelay.\n",
    "\n",
    "X = X.dropna(subset = [\"DepDelay\", \"ArrDelay\"])\n",
    "newX = X[[\"DepDelay\", \"ArrDelay\", \"CarrierDelay\"]]\n",
    "newX_train = newX[np.isnan(X.CarrierDelay) == False]\n",
    "\n",
    "regr = linear_model.LinearRegression()\n",
    "regr.fit(newX_train[[\"DepDelay\", \"ArrDelay\"]], newX_train[\"CarrierDelay\"])"
   ]
  },
  {
   "cell_type": "code",
   "execution_count": null,
   "metadata": {},
   "outputs": [],
   "source": [
    "regr.coef_"
   ]
  },
  {
   "cell_type": "code",
   "execution_count": null,
   "metadata": {},
   "outputs": [],
   "source": [
    "# Estoy recogiendo todas las columnas regresoras (DepDelay, ArrDelay) de aquellos vuelos que no tengan valor en CarrierDelay\n",
    "\n",
    "valores_imputacion = newX[np.isnan(X.CarrierDelay)]\n",
    "valores_imputacion = valores_imputacion[[\"DepDelay\", \"ArrDelay\"]]"
   ]
  },
  {
   "cell_type": "code",
   "execution_count": null,
   "metadata": {},
   "outputs": [],
   "source": [
    "# Con estos datos, predeciremos los nuevos valores.\n",
    "nuevos_valores = regr.predict(valores_imputacion)"
   ]
  },
  {
   "cell_type": "code",
   "execution_count": null,
   "metadata": {},
   "outputs": [],
   "source": [
    "# Ahora sustituyo aquellas columnas CarrierDelay que no tienen información, por el dato obtenido.\n",
    "X.loc[np.isnan(X.CarrierDelay), \"CarrierDelay\"] = nuevos_valores"
   ]
  },
  {
   "cell_type": "code",
   "execution_count": null,
   "metadata": {},
   "outputs": [],
   "source": [
    "X"
   ]
  },
  {
   "cell_type": "markdown",
   "metadata": {},
   "source": [
    "# Text Mining"
   ]
  },
  {
   "cell_type": "code",
   "execution_count": null,
   "metadata": {},
   "outputs": [],
   "source": [
    "# pip install nltk\n",
    "# Utilizaremos el paquete nltk, habrá que instalarlo si no lo está, además de descargar nuevas funcionalidades mediante\n",
    "# el método download.\n",
    "import nltk\n",
    "import string\n",
    "\n",
    "nltk.download('punkt')\n",
    "nltk.download('stopwords')\n",
    "\n",
    "from nltk.tokenize import sent_tokenize, word_tokenize\n",
    "from nltk.probability import FreqDist\n",
    "from nltk.corpus import stopwords\n",
    "\n",
    "# Para hacer pruebas utilizaremos este texto.\n",
    "texto = open(\"../../data/Cap 8/textoANSI.txt\", \"r\").read()"
   ]
  },
  {
   "cell_type": "code",
   "execution_count": null,
   "metadata": {},
   "outputs": [],
   "source": [
    "# Partiremos nuestro texto en frases.\n",
    "frases = sent_tokenize(texto)"
   ]
  },
  {
   "cell_type": "code",
   "execution_count": null,
   "metadata": {},
   "outputs": [],
   "source": [
    "print(frases)"
   ]
  },
  {
   "cell_type": "code",
   "execution_count": null,
   "metadata": {},
   "outputs": [],
   "source": [
    "# Ahora partimos el texto en palabras.\n",
    "palabras = word_tokenize(texto)\n",
    "print(palabras)"
   ]
  },
  {
   "cell_type": "code",
   "execution_count": null,
   "metadata": {},
   "outputs": [],
   "source": [
    "# Para que no incluya signos de puntuación....\n",
    "fdist = FreqDist(palabras)"
   ]
  },
  {
   "cell_type": "code",
   "execution_count": null,
   "metadata": {},
   "outputs": [],
   "source": [
    "# Nos muestra las palabras más utilizadas en el texto. Si quiero analizar un texto, estas palabras aparecen en todos.\n",
    "fdist.most_common(20)"
   ]
  },
  {
   "cell_type": "code",
   "execution_count": null,
   "metadata": {},
   "outputs": [],
   "source": [
    "# Estamos viendo conjunciones, preposiciones, signos de puntuación... esto no sirve de nada para analizar un texto.\n",
    "# Suprimiremos este tipo de palabras... mediante la función stopwords.words(\"spanish\")\n",
    "\n",
    "stop_word = stopwords.words(\"spanish\")\n",
    "print(stop_word)"
   ]
  },
  {
   "cell_type": "code",
   "execution_count": null,
   "metadata": {},
   "outputs": [],
   "source": [
    "# Hemos obtenido el conjunto de palabras menos significativos.\n",
    "# Extraemos toda esta lista de nuestro listado de palabras a analizar.\n",
    "palabras2 = [x for x in palabras if x not in stop_word]\n",
    "palabras2"
   ]
  },
  {
   "cell_type": "code",
   "execution_count": null,
   "metadata": {},
   "outputs": [],
   "source": [
    "# Las comas siguen apareciendo, para ello, ajustamos el tipo de proceso.\n",
    "\n",
    "palabras = word_tokenize(texto.lower())"
   ]
  },
  {
   "cell_type": "code",
   "execution_count": null,
   "metadata": {},
   "outputs": [],
   "source": [
    "# string.punctuation son los símbolos de puntuación, los incluyo para que la lista tenga un significado concreto.\n",
    "palabras2 = [x for x in palabras if x not in stop_word + list(string.punctuation)]\n",
    "palabras2"
   ]
  },
  {
   "cell_type": "code",
   "execution_count": null,
   "metadata": {},
   "outputs": [],
   "source": [
    "FreqDist(palabras2).most_common(20)"
   ]
  },
  {
   "cell_type": "markdown",
   "metadata": {},
   "source": [
    "# Utilización de Stemmer para reducir palabras a la raíz"
   ]
  },
  {
   "cell_type": "markdown",
   "metadata": {},
   "source": [
    "Cuando usuamos una función de estilo Stemmer es reducir las palabras a la raíz."
   ]
  },
  {
   "cell_type": "code",
   "execution_count": null,
   "metadata": {},
   "outputs": [],
   "source": [
    "import nltk\n",
    "import string\n",
    "\n",
    "nltk.download('punkt')\n",
    "nltk.download('stopwords')\n",
    "\n",
    "from nltk.tokenize import sent_tokenize, word_tokenize\n",
    "from nltk.stem import SnowballStemmer\n",
    "from nltk.corpus import stopwords\n",
    "from nltk.probability import FreqDist\n",
    "\n",
    "texto = open(\"../../data/Cap 8/textoANSI.txt\", \"r\").read()\n",
    "stop_words = stopwords.words(\"spanish\")\n"
   ]
  },
  {
   "cell_type": "code",
   "execution_count": null,
   "metadata": {},
   "outputs": [],
   "source": [
    "palabras = [x for x in word_tokenize(texto.lower()) if x not in stop_words + list(string.punctuation)]"
   ]
  },
  {
   "cell_type": "code",
   "execution_count": null,
   "metadata": {},
   "outputs": [],
   "source": [
    "palabras"
   ]
  },
  {
   "cell_type": "code",
   "execution_count": null,
   "metadata": {},
   "outputs": [],
   "source": [
    "# Vamos a reducir las conjugaciones de verbos / palabras a su raíz.\n",
    "\n",
    "stemmer = SnowballStemmer(\"spanish\")"
   ]
  },
  {
   "cell_type": "code",
   "execution_count": null,
   "metadata": {},
   "outputs": [],
   "source": [
    "raices = []\n",
    "for palabra in palabras:\n",
    "    raices.append(stemmer.stem(palabra))"
   ]
  },
  {
   "cell_type": "code",
   "execution_count": null,
   "metadata": {},
   "outputs": [],
   "source": [
    "raices"
   ]
  },
  {
   "cell_type": "code",
   "execution_count": null,
   "metadata": {},
   "outputs": [],
   "source": [
    "# Esto nos permite que al hacer recuento de frecuencias no nos afecte las derivaciones de una determinada palabra.\n",
    "FreqDist(raices).most_common(20)"
   ]
  },
  {
   "cell_type": "code",
   "execution_count": null,
   "metadata": {},
   "outputs": [],
   "source": [
    "FreqDist(palabras).most_common(20)"
   ]
  },
  {
   "cell_type": "markdown",
   "metadata": {},
   "source": [
    "# Traducciones de Texto con Google Translator"
   ]
  },
  {
   "cell_type": "code",
   "execution_count": null,
   "metadata": {},
   "outputs": [],
   "source": [
    "# pip install googletrans==3.1.0a0\n",
    "from googletrans import Translator"
   ]
  },
  {
   "cell_type": "code",
   "execution_count": null,
   "metadata": {},
   "outputs": [],
   "source": [
    "translator = Translator()"
   ]
  },
  {
   "cell_type": "code",
   "execution_count": null,
   "metadata": {},
   "outputs": [],
   "source": [
    "print(translator.detect(\"Esto es un curso de Python\"))"
   ]
  },
  {
   "cell_type": "code",
   "execution_count": null,
   "metadata": {},
   "outputs": [],
   "source": [
    "print(translator.detect(\"This es un curso de Python\"))"
   ]
  },
  {
   "cell_type": "code",
   "execution_count": null,
   "metadata": {},
   "outputs": [],
   "source": [
    "# Vamos a ver cómo podemos traducir de forma sencilla.\n",
    "\n",
    "print(translator.translate(\"Esto es un curso de Python\"))"
   ]
  },
  {
   "cell_type": "code",
   "execution_count": null,
   "metadata": {},
   "outputs": [],
   "source": [
    "peliculas = translator.translate([\"Indiana Jones En busca del arca perdida\", \"Indiana Jones y El templo maldito\",\"Indiana Jones y La última cruzada\",\"El reino de la calavera de cristal\"])"
   ]
  },
  {
   "cell_type": "code",
   "execution_count": null,
   "metadata": {},
   "outputs": [],
   "source": [
    "for pelicula in peliculas:\n",
    "    print(pelicula.origin, \"->\", pelicula.text)"
   ]
  },
  {
   "cell_type": "markdown",
   "metadata": {},
   "source": [
    "# Análisis de Sentimiento"
   ]
  },
  {
   "cell_type": "code",
   "execution_count": null,
   "metadata": {},
   "outputs": [],
   "source": [
    "from sklearn.feature_extraction.text import CountVectorizer\n",
    "from nltk.tokenize import RegexpTokenizer\n",
    "import pandas as pd\n",
    "\n",
    "# He creado una lista de opiniones, la primera etiqueta si es positiva o negativa, la segunda las opiniones.\n",
    "\n",
    "lista1 = [\"Bueno\", \"Malo\", \"Malo\", \"Malo\", \"Bueno\", \"Bueno\", \"Malo\", \"Bueno\", \"Bueno\", \"Malo\"]\n",
    "lista2 = [\"Lo recomendaría a todos mis amigos\",\n",
    "         \"Es el peor producto que he comprado nunca\",\n",
    "         \"Ni loco compraría este producto\", \n",
    "         \"No se lo recomendaría ni a mi enemigo\", \n",
    "         \"Es un buen producto, sí que lo recomendaría\", \n",
    "         \"Me ha encantado\", \n",
    "         \"Es una basura absoluta, ni me molesté en lavarlo, lo tiré directamente\",\n",
    "         \"El enemigo público número uno de la suciedad\",\n",
    "         \"Es un producto genial, se lo recomendaría a todos los compradores\",\n",
    "         \"Hay que estar loco para comprar esta basura\"]\n",
    "\n",
    "df = pd.DataFrame({\"Sentimiento\":lista1, \"Valoracion\":lista2 })\n",
    "\n",
    "# Preparamos el objeto modelación para realizar un modelo.\n",
    "\n",
    "# Quitamos del modelo todo aquello que no sean letras en minúscula ni mayúscula ni números.\n",
    "# Con ngram_range (1,2) se indican parejas de palabras, p.e. enemigo público es pareja de palabras... dependiendo del contexto\n",
    "# puede ser positivo o negativo.\n",
    "token = RegexpTokenizer(r'[a-zA-Z0-9]+')\n",
    "# ngram_range si pongo (1,1) indico solo que quiero las palabras; si pongo (1,2) incluye parejas de palabras \n",
    "# (p.e.enemigo público)... podemos indicar las secuencias de palabras que queramos.\n",
    "# Podemos ver qué pasa con la escucha de tweets...\n",
    "cv = CountVectorizer(lowercase = True, ngram_range = (1,2), tokenizer = token.tokenize)\n",
    "# Vamos a decirle que entrene la columna de valoración\n",
    "text_counts = cv.fit_transform(df['Valoracion'])"
   ]
  },
  {
   "cell_type": "code",
   "execution_count": null,
   "metadata": {},
   "outputs": [],
   "source": [
    "# Obtenemos el número de palabras y pareja de palabras, contando cuántas veces aparecen. En este caso, como \n",
    "# el número de texto es pequeño solo encontramos las parejas de palabras una vez. Todo esto nos ayudará a obtener un \n",
    "# modelo predictivo, que veremos a continuación... interesantísimo para clasificación de tweets.\n",
    "print(text_counts)"
   ]
  },
  {
   "cell_type": "code",
   "execution_count": null,
   "metadata": {},
   "outputs": [],
   "source": [
    "# Crearemos una muestra de train y test para analizar cómo es de acertado el modelo.\n",
    "from sklearn.model_selection import train_test_split\n",
    "X_train, X_test, y_train, y_test = train_test_split(text_counts, df['Sentimiento'], test_size = 0.5, random_state = 1)"
   ]
  },
  {
   "cell_type": "code",
   "execution_count": null,
   "metadata": {},
   "outputs": [],
   "source": [
    "from sklearn.naive_bayes import MultinomialNB\n",
    "from sklearn import metrics\n",
    "\n",
    "clf = MultinomialNB().fit(X_train, y_train)\n",
    "\n",
    "predicted = clf.predict(X_test)\n",
    "\n",
    "print(\"MultinomialNB Accuracy:\", metrics.accuracy_score(y_test, predicted))"
   ]
  },
  {
   "cell_type": "code",
   "execution_count": null,
   "metadata": {},
   "outputs": [],
   "source": [
    "y_test"
   ]
  },
  {
   "cell_type": "code",
   "execution_count": null,
   "metadata": {},
   "outputs": [],
   "source": [
    "predicted"
   ]
  },
  {
   "cell_type": "code",
   "execution_count": null,
   "metadata": {},
   "outputs": [],
   "source": [
    "# Idea para práctica -- Hacer lo mismo con tweets, aplicando un modelo."
   ]
  },
  {
   "cell_type": "markdown",
   "metadata": {},
   "source": [
    "# Web Scraping"
   ]
  },
  {
   "cell_type": "code",
   "execution_count": null,
   "metadata": {},
   "outputs": [],
   "source": [
    "# Entrar en la url https://www.crummy.com/software/BeautifulSoup/bs4/doc/ "
   ]
  },
  {
   "cell_type": "code",
   "execution_count": null,
   "metadata": {},
   "outputs": [],
   "source": [
    "# pip install beautifulsoup4\n",
    "from bs4 import BeautifulSoup\n",
    "import requests\n",
    "\n",
    "url = \"https://es.wikipedia.org/wiki/Python\"\n",
    "pagina = requests.get(url)\n",
    "soup = BeautifulSoup(pagina.content, 'html.parser')\n",
    "\n",
    "# Elementos anidados.\n",
    "print(soup.prettify())"
   ]
  },
  {
   "cell_type": "code",
   "execution_count": null,
   "metadata": {},
   "outputs": [],
   "source": [
    "# Elementos sin anidar.\n",
    "list(soup.children)"
   ]
  },
  {
   "cell_type": "code",
   "execution_count": null,
   "metadata": {},
   "outputs": [],
   "source": [
    "soup.title"
   ]
  },
  {
   "cell_type": "code",
   "execution_count": null,
   "metadata": {},
   "outputs": [],
   "source": [
    "soup.title.parent"
   ]
  },
  {
   "cell_type": "code",
   "execution_count": null,
   "metadata": {},
   "outputs": [],
   "source": [
    "for child in soup.title.children:\n",
    "    print(child)"
   ]
  },
  {
   "cell_type": "code",
   "execution_count": null,
   "metadata": {},
   "outputs": [],
   "source": [
    "# Busca la primera vez que encuentra a\n",
    "soup.a"
   ]
  },
  {
   "cell_type": "code",
   "execution_count": null,
   "metadata": {},
   "outputs": [],
   "source": [
    "soup.find_all(\"a\")"
   ]
  },
  {
   "cell_type": "code",
   "execution_count": null,
   "metadata": {},
   "outputs": [],
   "source": [
    "# Si buscamos por p, tendremos el texto, interesante para hacer un análisis de text mining.\n",
    "soup.find_all(\"p\")"
   ]
  },
  {
   "cell_type": "code",
   "execution_count": null,
   "metadata": {},
   "outputs": [],
   "source": [
    "soup.find(id = \"Enlaces_externos\")"
   ]
  },
  {
   "cell_type": "code",
   "execution_count": null,
   "metadata": {},
   "outputs": [],
   "source": [
    "enlaces = soup.find(id = \"Enlaces_externos\")"
   ]
  },
  {
   "cell_type": "code",
   "execution_count": null,
   "metadata": {},
   "outputs": [],
   "source": [
    "enlaces"
   ]
  },
  {
   "cell_type": "code",
   "execution_count": null,
   "metadata": {},
   "outputs": [],
   "source": [
    "enlaces.contents"
   ]
  },
  {
   "cell_type": "code",
   "execution_count": null,
   "metadata": {},
   "outputs": [],
   "source": [
    "enlaces = soup.findAll(\"div\", {'class': 'listaref'})"
   ]
  },
  {
   "cell_type": "code",
   "execution_count": null,
   "metadata": {},
   "outputs": [],
   "source": [
    "# Obtenemos los enlaces, pero existe demasiado código.\n",
    "enlaces"
   ]
  },
  {
   "cell_type": "code",
   "execution_count": null,
   "metadata": {},
   "outputs": [],
   "source": [
    "soup.find_all(\"li\")"
   ]
  },
  {
   "cell_type": "code",
   "execution_count": null,
   "metadata": {},
   "outputs": [],
   "source": [
    "# Obtenemos los enlaces que estaban escritos.\n",
    "for d in soup.find('div', attrs = {'class': 'listaref'}).descendants:\n",
    "    if d.name == 'span' and d.get('class', '') == ['reference-text']:\n",
    "        print(d.text)"
   ]
  },
  {
   "cell_type": "code",
   "execution_count": null,
   "metadata": {},
   "outputs": [],
   "source": [
    "data = soup.find('div', attrs = {'class': 'listaref'})\n",
    "for div in data:\n",
    "    links = div.findAll('a')\n",
    "    for a in links:\n",
    "        if a['href'].startswith(\"http\"):\n",
    "            print(a[\"href\"])"
   ]
  },
  {
   "cell_type": "markdown",
   "metadata": {},
   "source": [
    "# Extracción de Texto usando BeautifulSoup"
   ]
  },
  {
   "cell_type": "code",
   "execution_count": null,
   "metadata": {},
   "outputs": [],
   "source": [
    "from bs4 import BeautifulSoup\n",
    "import requests\n",
    "\n",
    "url = \"https://es.wikipedia.org/wiki/Python\"\n",
    "pagina = requests.get(url)\n",
    "soup = BeautifulSoup(pagina.content, 'html.parser')\n",
    "\n",
    "# Elementos anidados.\n",
    "print(soup.prettify())"
   ]
  },
  {
   "cell_type": "code",
   "execution_count": null,
   "metadata": {},
   "outputs": [],
   "source": [
    "# Con esta función se recoge texto, pero incorpora cosas que no nos interesa.\n",
    "print(soup.get_text())"
   ]
  },
  {
   "cell_type": "code",
   "execution_count": null,
   "metadata": {},
   "outputs": [],
   "source": [
    "# Si queremos visualizar el cuerpo del artículo, podemos hacerlo de la siguiente forma\n",
    "soup.find(\"body\")"
   ]
  },
  {
   "cell_type": "code",
   "execution_count": null,
   "metadata": {},
   "outputs": [],
   "source": [
    "# De esta forma podríamos buscar los elementos categorizados por ejemplo con p\n",
    "soup.find(\"body\").find_all('p')"
   ]
  },
  {
   "cell_type": "code",
   "execution_count": null,
   "metadata": {},
   "outputs": [],
   "source": [
    "# La información está pendiente de procesar para obtenerla limpia.\n",
    "elementos = soup.find(\"body\").find_all('p')"
   ]
  },
  {
   "cell_type": "code",
   "execution_count": null,
   "metadata": {},
   "outputs": [],
   "source": [
    "elementos"
   ]
  },
  {
   "cell_type": "code",
   "execution_count": null,
   "metadata": {},
   "outputs": [],
   "source": [
    "# Ahora disponemos de una lista con los elementos separados por párrafos.\n",
    "# Vamos a utilizar una función para limpiar todo el código html\n",
    "\n",
    "import re\n",
    "\n",
    "def limpiarhtml(html):\n",
    "    expresion = re.compile('<.*?>')\n",
    "    texto = re.sub(expresion, '', html)\n",
    "    return texto"
   ]
  },
  {
   "cell_type": "code",
   "execution_count": null,
   "metadata": {},
   "outputs": [],
   "source": [
    "for elem in elementos:\n",
    "    print(limpiarhtml(str(elem)))"
   ]
  },
  {
   "cell_type": "markdown",
   "metadata": {},
   "source": [
    "# Obtención de Información no Contextual"
   ]
  },
  {
   "cell_type": "code",
   "execution_count": null,
   "metadata": {},
   "outputs": [],
   "source": [
    "from bs4 import BeautifulSoup\n",
    "import requests, re\n",
    "\n",
    "url = \"https://es.wikipedia.org/wiki/Python\"\n",
    "pagina = requests.get(url)\n",
    "soup = BeautifulSoup(pagina.content, 'html.parser')"
   ]
  },
  {
   "cell_type": "code",
   "execution_count": null,
   "metadata": {},
   "outputs": [],
   "source": [
    "# Obtenemos todos los enlaces que apuntan fuera de la Wikipedia.\n",
    "for link in soup.findAll('a', attrs = {'href': re.compile(\"^http://\")}):\n",
    "    print(link.get('href'))"
   ]
  },
  {
   "cell_type": "code",
   "execution_count": null,
   "metadata": {},
   "outputs": [],
   "source": [
    "# Buscamos ahora todos los enlaces que apuntan dentro de la Wikipedia.\n",
    "baselink = \"https://es.wikipedia.org\"\n",
    "\n",
    "for link in soup.findAll('a'):\n",
    "    if str(link.get('href'))[0] == \"/\":\n",
    "        print(baselink + link.get('href'))"
   ]
  },
  {
   "cell_type": "code",
   "execution_count": null,
   "metadata": {},
   "outputs": [],
   "source": [
    "# En algún caso nos dirige a una doble barra, p.e. https://es.wikipedia.org//wikimediafoundation.org/wiki/Terms_of_Use\n",
    "\n",
    "baselink = \"https://es.wikipedia.org\"\n",
    "for link in soup.findAll('a'):\n",
    "    if str(link.get('href'))[0] == \"/\" and str(link.get('href'))[1] != \"/\":\n",
    "        print(baselink + link.get('href'))"
   ]
  },
  {
   "cell_type": "markdown",
   "metadata": {},
   "source": [
    "# Creación de un Spider o Crawler"
   ]
  },
  {
   "cell_type": "code",
   "execution_count": null,
   "metadata": {},
   "outputs": [],
   "source": [
    "from bs4 import BeautifulSoup\n",
    "import requests, re, time\n",
    "\n",
    "url = \"https://es.wikipedia.org/wiki/Python\"\n",
    "pagina = requests.get(url)\n",
    "soup = BeautifulSoup(pagina.content, 'html.parser')\n",
    "\n",
    "listalinksexplorados = set()\n",
    "listalinksexplorar = set()\n",
    "\n",
    "baselink = \"https://es.wikipedia.org\"\n",
    "for link in soup.findAll('a'):\n",
    "    if str(link.get('href'))[0] == \"/\" and str(link.get('href'))[1] != \"/\":\n",
    "        print(baselink + link.get('href'))"
   ]
  },
  {
   "cell_type": "code",
   "execution_count": null,
   "metadata": {},
   "outputs": [],
   "source": [
    "# Añadimos la lista de links por explorar.\n",
    "for link in soup.findAll('a'):\n",
    "    if str(link.get('href'))[0] == \"/\" and str(link.get('href'))[1] != \"/\" and baselink + link.get('href') not in listalinksexplorados:\n",
    "        listalinksexplorar.add(baselink + link.get('href'))"
   ]
  },
  {
   "cell_type": "code",
   "execution_count": null,
   "metadata": {},
   "outputs": [],
   "source": [
    "listalinksexplorar"
   ]
  },
  {
   "cell_type": "code",
   "execution_count": null,
   "metadata": {},
   "outputs": [],
   "source": [
    "while (len(listalinksexplorar) != 0):\n",
    "    link = listalinksexplorar.pop()\n",
    "    pagina = requests.get(link)\n",
    "    soup = BeautifulSoup(pagina.content, \"html.parser\")\n",
    "    print(\"Links Explorados: \", len(listalinksexplorados), \"Links por Explorar: \", len(listalinksexplorar))\n",
    "    listalinksexplorados.add(link)\n",
    "    time.sleep(1)\n",
    "    for link in soup.findAll('a'):\n",
    "        if str(link.get('href'))[0] == \"/\" and str(link.get('href'))[1] != \"/\" and baselink + link.get('href') not in listalinksexplorados:\n",
    "            listalinksexplorar.add(baselink + link.get('href'))"
   ]
  },
  {
   "cell_type": "code",
   "execution_count": null,
   "metadata": {},
   "outputs": [],
   "source": [
    "listalinksexplorados"
   ]
  },
  {
   "cell_type": "code",
   "execution_count": null,
   "metadata": {},
   "outputs": [],
   "source": [
    "# Podríamos utilizar un modelo de Text Mining y encontrar la información navegando a través de links."
   ]
  },
  {
   "cell_type": "markdown",
   "metadata": {},
   "source": [
    "# Desafío: WebScraping y Modelización"
   ]
  },
  {
   "cell_type": "code",
   "execution_count": null,
   "metadata": {},
   "outputs": [],
   "source": [
    "# Hacer un Web Scraping para la tabla de \"Países de América Latina por índice de desarrollo humano\"\n",
    "# https://es.wikipedia.org/wiki/Anexo:Pa%C3%ADses_de_Am%C3%A9rica_Latina_por_%C3%ADndice_de_desarrollo_humano \n",
    "\n",
    "# 1 - Conseguir la lista de países, incluyendo la media general y las columnas que se muestran.\n",
    "# 2 - Ajustar luego un modelo de Machine Learning con los valores, intentando que el código sea reproducible si se añaden\n",
    "# nuevos años.\n",
    "# 3 - Hacer un modelo de predicción de un valor basándonos en los tres anteriores.\n",
    "# 4 - Predecir el valor del año siguiente (no se muestra) a partir del conjunto de valores de la lista."
   ]
  },
  {
   "cell_type": "code",
   "execution_count": null,
   "metadata": {},
   "outputs": [],
   "source": [
    "# Detectamos donde se encuentra la tabla y los nombres de cada columna.\n",
    "from sklearn.model_selection import train_test_split, KFold\n",
    "from sklearn.metrics import r2_score\n",
    "from sklearn import linear_model\n",
    "from bs4 import BeautifulSoup\n",
    "\n",
    "import requests, re, time\n",
    "import pandas as pd\n",
    "import numpy as np\n",
    "\n",
    "\n",
    "url = \"https://es.wikipedia.org/wiki/Anexo:Pa%C3%ADses_de_Am%C3%A9rica_Latina_por_%C3%ADndice_de_desarrollo_humano\"\n",
    "pagina = requests.get(url)\n",
    "soup = BeautifulSoup(pagina.content, \"html.parser\")"
   ]
  },
  {
   "cell_type": "code",
   "execution_count": null,
   "metadata": {},
   "outputs": [],
   "source": [
    "tablas = soup.findAll(\"table\")\n",
    "for tabla in tablas:\n",
    "    if (tabla[\"class\"] == \"wikitable\"):\n",
    "        print(tabla)"
   ]
  },
  {
   "cell_type": "code",
   "execution_count": null,
   "metadata": {},
   "outputs": [],
   "source": [
    "print(tabla)"
   ]
  },
  {
   "cell_type": "code",
   "execution_count": null,
   "metadata": {},
   "outputs": [],
   "source": [
    "nombrecolumnas = []\n",
    "for elem in tabla.find_all(\"th\"):\n",
    "    if str(elem.string)[0] == \"2\" or str(elem.string)[0] == \"1\":\n",
    "        nombrecolumnas.append(elem.string[:-1])\n",
    "        print(elem.string[:-1])"
   ]
  },
  {
   "cell_type": "code",
   "execution_count": null,
   "metadata": {},
   "outputs": [],
   "source": [
    "print(nombrecolumnas)"
   ]
  },
  {
   "cell_type": "code",
   "execution_count": null,
   "metadata": {},
   "outputs": [],
   "source": [
    "for elem in tabla.find_all(\"td\"):\n",
    "    if str(elem.string)[0] == \"0\":\n",
    "        print(elem.string)"
   ]
  },
  {
   "cell_type": "code",
   "execution_count": null,
   "metadata": {},
   "outputs": [],
   "source": [
    "paises = []\n",
    "for elem in tabla.find_all([\"td\", \"img\"]):\n",
    "    if str(elem.string).find(\"Latino América\") != -1:\n",
    "        print(elem.string)\n",
    "        paises.append(elem.string)\n",
    "    if elem.img is not None:\n",
    "        print(elem.find_next(\"a\").string)\n",
    "        paises.append(elem.string)"
   ]
  },
  {
   "cell_type": "code",
   "execution_count": null,
   "metadata": {},
   "outputs": [],
   "source": [
    "len(paises)"
   ]
  },
  {
   "cell_type": "code",
   "execution_count": null,
   "metadata": {},
   "outputs": [],
   "source": [
    "valores = []\n",
    "# Se elimina la última posición [:-1] que corresponde con un salto de línea y se reemplazan todas las comas por puntos.\n",
    "for elem in tabla.find_all(\"td\"):\n",
    "    if str(elem.string)[0] == \"0\":\n",
    "        if float(elem.string[:-1].replace(\",\",\".\")) > 0.4:\n",
    "            valores.append(float(elem.string[:-1].replace(\",\",\".\")))"
   ]
  },
  {
   "cell_type": "code",
   "execution_count": null,
   "metadata": {},
   "outputs": [],
   "source": [
    "valores = np.array(valores)"
   ]
  },
  {
   "cell_type": "code",
   "execution_count": null,
   "metadata": {},
   "outputs": [],
   "source": [
    "len(valores)"
   ]
  },
  {
   "cell_type": "code",
   "execution_count": null,
   "metadata": {},
   "outputs": [],
   "source": [
    "print(valores)"
   ]
  },
  {
   "cell_type": "code",
   "execution_count": null,
   "metadata": {},
   "outputs": [],
   "source": [
    "# Le damos un formato de BBDD\n",
    "valores.shape = (len(paises), len(nombrecolumnas))"
   ]
  },
  {
   "cell_type": "code",
   "execution_count": null,
   "metadata": {},
   "outputs": [],
   "source": [
    "valores"
   ]
  },
  {
   "cell_type": "code",
   "execution_count": null,
   "metadata": {},
   "outputs": [],
   "source": [
    "df = pd.DataFrame(valores, columns = nombrecolumnas)"
   ]
  },
  {
   "cell_type": "code",
   "execution_count": null,
   "metadata": {},
   "outputs": [],
   "source": [
    "df"
   ]
  },
  {
   "cell_type": "code",
   "execution_count": null,
   "metadata": {},
   "outputs": [],
   "source": [
    "# A continuación se crean todas las variables regresoras, todas las columnas menos la primera\n",
    "X = df.iloc[:,1:len(df.columns)]\n",
    "# Y la respuesta es la primera\n",
    "Y = df.iloc[:,0]"
   ]
  },
  {
   "cell_type": "code",
   "execution_count": null,
   "metadata": {},
   "outputs": [],
   "source": [
    "# Ajustamos un modelo con 7 particiones, en un modelo de regresión lineal.\n",
    "kf = KFold(n_splits = 7)\n",
    "kf.get_n_splits(X)\n",
    "\n",
    "regr = linear_model.LinearRegression()\n",
    "\n",
    "resultados = []\n",
    "\n",
    "for train_index, test_index in kf.split(X):\n",
    "    X_train, X_test = X.loc[train_index,], X.loc[test_index,]\n",
    "    y_train, y_test = Y[train_index], Y[test_index]\n",
    "    regr.fit(X_train, y_train)\n",
    "    predicciones = regr.predict(X_test)\n",
    "    print(\"R2: \", r2_score(y_test, predicciones))\n",
    "    resultados.append(r2_score(y_test, predicciones))\n",
    "\n",
    "print(\"R2 medio: \", np.mean(resultados))\n"
   ]
  },
  {
   "cell_type": "code",
   "execution_count": null,
   "metadata": {},
   "outputs": [],
   "source": [
    "regr = linear_model.LinearRegression()\n",
    "regr.fit(X,Y)"
   ]
  },
  {
   "cell_type": "code",
   "execution_count": null,
   "metadata": {},
   "outputs": [],
   "source": [
    "r2_score(Y, regr.predict(X))"
   ]
  },
  {
   "cell_type": "code",
   "execution_count": null,
   "metadata": {},
   "outputs": [],
   "source": [
    "regr.coef_"
   ]
  },
  {
   "cell_type": "code",
   "execution_count": null,
   "metadata": {},
   "outputs": [],
   "source": [
    "regr.intercept_"
   ]
  },
  {
   "cell_type": "code",
   "execution_count": null,
   "metadata": {},
   "outputs": [],
   "source": [
    "# Modelo predictivo para el año 2019\n",
    "np.sum(df.iloc[:,0:6] * regr.coef_, axis = 1)"
   ]
  },
  {
   "cell_type": "code",
   "execution_count": null,
   "metadata": {},
   "outputs": [],
   "source": []
  }
 ],
 "metadata": {
  "kernelspec": {
   "display_name": "Python 3",
   "language": "python",
   "name": "python3"
  },
  "language_info": {
   "codemirror_mode": {
    "name": "ipython",
    "version": 3
   },
   "file_extension": ".py",
   "mimetype": "text/x-python",
   "name": "python",
   "nbconvert_exporter": "python",
   "pygments_lexer": "ipython3",
   "version": "3.8.8"
  }
 },
 "nbformat": 4,
 "nbformat_minor": 4
}
